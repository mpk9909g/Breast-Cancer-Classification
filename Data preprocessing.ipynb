{
 "cells": [
  {
   "cell_type": "markdown",
   "id": "3eb49954",
   "metadata": {},
   "source": [
    "## Project 3\n",
    " ### Team:3\n",
    "    \n",
    "    Matt Keeley\n",
    "    Jenny Yang\n",
    "    Shay Masood\n",
    "    Shreyansh Saraiya\n",
    "    Fatma Butun\n",
    "\n"
   ]
  },
  {
   "cell_type": "markdown",
   "id": "8c185707",
   "metadata": {},
   "source": [
    "# OVERVIEW"
   ]
  },
  {
   "cell_type": "markdown",
   "id": "9267f39b",
   "metadata": {},
   "source": [
    "### Here we aim to predict whether a breast tumor is benign or malignant based on certain cell features by using Machine Learning algorithm.\n",
    "### The result will be published on heroku"
   ]
  },
  {
   "cell_type": "code",
   "execution_count": 1,
   "id": "f9837d70",
   "metadata": {},
   "outputs": [],
   "source": [
    "import pandas as pd\n",
    "import matplotlib.pyplot as plt\n",
    "import numpy as np\n",
    "from sklearn.model_selection import train_test_split\n",
    "from sklearn.preprocessing import LabelEncoder, StandardScaler\n",
    "from tensorflow.keras.utils import to_categorical\n",
    "from sklearn.ensemble import RandomForestClassifier\n",
    "import joblib"
   ]
  },
  {
   "cell_type": "markdown",
   "id": "3e4df723",
   "metadata": {},
   "source": [
    "# Read csv and do data cleaning"
   ]
  },
  {
   "cell_type": "code",
   "execution_count": 2,
   "id": "59b043b7",
   "metadata": {},
   "outputs": [],
   "source": [
    "breast_cancer_df = pd. read_csv(\"breast_cancer_data.csv\")"
   ]
  },
  {
   "cell_type": "code",
   "execution_count": 3,
   "id": "a5442fbc",
   "metadata": {},
   "outputs": [
    {
     "data": {
      "text/plain": [
       "(569, 33)"
      ]
     },
     "execution_count": 3,
     "metadata": {},
     "output_type": "execute_result"
    }
   ],
   "source": [
    "breast_cancer_df.shape"
   ]
  },
  {
   "cell_type": "code",
   "execution_count": 4,
   "id": "3327d240",
   "metadata": {},
   "outputs": [
    {
     "data": {
      "text/plain": [
       "Index(['id', 'diagnosis', 'radius_mean', 'texture_mean', 'perimeter_mean',\n",
       "       'area_mean', 'smoothness_mean', 'compactness_mean', 'concavity_mean',\n",
       "       'concave points_mean', 'symmetry_mean', 'fractal_dimension_mean',\n",
       "       'radius_se', 'texture_se', 'perimeter_se', 'area_se', 'smoothness_se',\n",
       "       'compactness_se', 'concavity_se', 'concave points_se', 'symmetry_se',\n",
       "       'fractal_dimension_se', 'radius_worst', 'texture_worst',\n",
       "       'perimeter_worst', 'area_worst', 'smoothness_worst',\n",
       "       'compactness_worst', 'concavity_worst', 'concave points_worst',\n",
       "       'symmetry_worst', 'fractal_dimension_worst', 'Unnamed: 32'],\n",
       "      dtype='object')"
      ]
     },
     "execution_count": 4,
     "metadata": {},
     "output_type": "execute_result"
    }
   ],
   "source": [
    "breast_cancer_df.columns"
   ]
  },
  {
   "cell_type": "code",
   "execution_count": 5,
   "id": "b1ed7eea",
   "metadata": {},
   "outputs": [
    {
     "data": {
      "text/plain": [
       "(569, 32)"
      ]
     },
     "execution_count": 5,
     "metadata": {},
     "output_type": "execute_result"
    }
   ],
   "source": [
    "# Drop the null columns where all values are null\n",
    "breast_cancer_df = breast_cancer_df.dropna(axis='columns', how='all')\n",
    "# Drop the null rows\n",
    "breast_cancer_df = breast_cancer_df.dropna()\n",
    "breast_cancer_df.shape"
   ]
  },
  {
   "cell_type": "code",
   "execution_count": 6,
   "id": "3c0536e4",
   "metadata": {},
   "outputs": [],
   "source": [
    "# define the output as target\n",
    "target = breast_cancer_df[\"diagnosis\"]\n",
    "# target.head()"
   ]
  },
  {
   "cell_type": "code",
   "execution_count": 7,
   "id": "a1125e12",
   "metadata": {},
   "outputs": [],
   "source": [
    "# define input, begin with all inputs\n",
    "\n",
    "features = breast_cancer_df[['radius_mean', 'texture_mean', 'perimeter_mean',\n",
    "       'area_mean', 'smoothness_mean', 'compactness_mean', 'concavity_mean',\n",
    "       'concave points_mean', 'symmetry_mean', 'fractal_dimension_mean',\n",
    "       'radius_se', 'texture_se', 'perimeter_se', 'area_se', 'smoothness_se',\n",
    "       'compactness_se', 'concavity_se', 'concave points_se', 'symmetry_se',\n",
    "       'fractal_dimension_se', 'radius_worst', 'texture_worst',\n",
    "       'perimeter_worst', 'area_worst', 'smoothness_worst',\n",
    "       'compactness_worst', 'concavity_worst', 'concave points_worst',\n",
    "       'symmetry_worst', 'fractal_dimension_worst']]"
   ]
  },
  {
   "cell_type": "code",
   "execution_count": 8,
   "id": "270bea63",
   "metadata": {},
   "outputs": [],
   "source": [
    "## make synthetic data\n",
    "\n",
    "# # Fit a kernel density model using GridSearchCV to determine the best parameter for bandwidth\n",
    "# from sklearn.model_selection import GridSearchCV\n",
    "# from sklearn.neighbors import KernelDensity\n",
    "# bandwidth_params = {'bandwidth': np.arange(0.01,1,0.05)}\n",
    "# grid_search = GridSearchCV(KernelDensity(), bandwidth_params)\n",
    "# grid_search.fit(features)\n",
    "# kde = grid_search.best_estimator_\n"
   ]
  },
  {
   "cell_type": "code",
   "execution_count": 9,
   "id": "8f4ce8ba",
   "metadata": {},
   "outputs": [],
   "source": [
    "# # Generate/sample 100 new faces from this dataset\n",
    "# synthetic_data = kde.sample(100, random_state=42)\n",
    "\n",
    "# synthetic_data = pd.DataFrame(synthetic_data, columns = ['radius_mean', 'texture_mean', 'perimeter_mean',\n",
    "#        'area_mean', 'smoothness_mean', 'compactness_mean', 'concavity_mean',\n",
    "#        'concave points_mean', 'symmetry_mean', 'fractal_dimension_mean',\n",
    "#        'radius_se', 'texture_se', 'perimeter_se', 'area_se', 'smoothness_se',\n",
    "#        'compactness_se', 'concavity_se', 'concave points_se', 'symmetry_se',\n",
    "#        'fractal_dimension_se', 'radius_worst', 'texture_worst',\n",
    "#        'perimeter_worst', 'area_worst', 'smoothness_worst',\n",
    "#        'compactness_worst', 'concavity_worst', 'concave points_worst',\n",
    "#        'symmetry_worst', 'fractal_dimension_worst'])"
   ]
  },
  {
   "cell_type": "code",
   "execution_count": 10,
   "id": "3f9bf08b",
   "metadata": {},
   "outputs": [],
   "source": [
    "# split the data\n",
    "\n",
    "X_train, X_test, y_train, y_test = train_test_split(features, target, random_state=42)"
   ]
  },
  {
   "cell_type": "code",
   "execution_count": 11,
   "id": "e8e7ac6e",
   "metadata": {},
   "outputs": [],
   "source": [
    "# scale the data\n",
    "\n",
    "X_scaler = StandardScaler().fit(X_train)\n"
   ]
  },
  {
   "cell_type": "code",
   "execution_count": 12,
   "id": "4c858e76",
   "metadata": {},
   "outputs": [],
   "source": [
    "# Transform the training and testing data using the X_scaler model\n",
    "\n",
    "X_train_scaled = X_scaler.transform(X_train)\n",
    "X_test_scaled = X_scaler.transform(X_test)"
   ]
  },
  {
   "cell_type": "code",
   "execution_count": 13,
   "id": "4d1b905b",
   "metadata": {},
   "outputs": [],
   "source": [
    "# Label-encode data set\n",
    "label_encoder = LabelEncoder()\n",
    "label_encoder.fit(y_train)\n",
    "encoded_y_train = label_encoder.transform(y_train)\n",
    "encoded_y_test = label_encoder.transform(y_test)"
   ]
  },
  {
   "cell_type": "code",
   "execution_count": 14,
   "id": "d1a377d4",
   "metadata": {},
   "outputs": [],
   "source": [
    "# Convert encoded labels to one-hot-encoding\n",
    "\n",
    "y_train_categorical = to_categorical(encoded_y_train)\n",
    "y_test_categorical = to_categorical(encoded_y_test)\n",
    "\n"
   ]
  },
  {
   "cell_type": "code",
   "execution_count": 15,
   "id": "1901e9f0",
   "metadata": {},
   "outputs": [
    {
     "data": {
      "text/plain": [
       "0.972027972027972"
      ]
     },
     "execution_count": 15,
     "metadata": {},
     "output_type": "execute_result"
    }
   ],
   "source": [
    "# test with one model - Here, Random Classifier \n",
    "rf = RandomForestClassifier(n_estimators=200)\n",
    "rf = rf.fit(X_train_scaled, y_train_categorical)\n",
    "rf.score(X_test_scaled, y_test_categorical)"
   ]
  },
  {
   "cell_type": "code",
   "execution_count": 16,
   "id": "31b7f5b3",
   "metadata": {},
   "outputs": [],
   "source": [
    "# # check the importance of the features and remove the least important ones ( result was very similar so I did not do it)\n",
    "# sorted(zip(rf.feature_importances_, features), reverse=True)"
   ]
  },
  {
   "cell_type": "markdown",
   "id": "ef6882bf",
   "metadata": {},
   "source": [
    "### Use PCA to remove least important columns"
   ]
  },
  {
   "cell_type": "code",
   "execution_count": 17,
   "id": "d84583fc",
   "metadata": {},
   "outputs": [],
   "source": [
    "# Use PCA to perform Dimensionality Reduction\n",
    "from sklearn.decomposition import PCA\n",
    "pca = PCA().fit(X_train_scaled)"
   ]
  },
  {
   "cell_type": "code",
   "execution_count": 18,
   "id": "350f4043",
   "metadata": {},
   "outputs": [
    {
     "data": {
      "image/png": "[encoded data removed]",
      "text/plain": [
       "<Figure size 432x288 with 1 Axes>"
      ]
     },
     "metadata": {
      "needs_background": "light"
     },
     "output_type": "display_data"
    }
   ],
   "source": [
    "# Plot each component's variance\n",
    "plt.figure()\n",
    "plt.plot(pca.explained_variance_ratio_)\n",
    "plt.xlabel('Components')\n",
    "plt.ylabel('Individual Component Variance (%)')\n",
    "plt.xlim((0,20))\n",
    "plt.title('Variance Explained')\n",
    "plt.show()"
   ]
  },
  {
   "cell_type": "code",
   "execution_count": 19,
   "id": "eecfab0e",
   "metadata": {},
   "outputs": [
    {
     "name": "stdout",
     "output_type": "stream",
     "text": [
      "the variance for each component : \n"
     ]
    },
    {
     "data": {
      "text/plain": [
       "{'radius_mean': 0.4373647988628963,\n",
       " 'texture_mean': 0.19531369757408704,\n",
       " 'perimeter_mean': 0.09618004832578814,\n",
       " 'area_mean': 0.06482796310133533,\n",
       " 'smoothness_mean': 0.05180713186743027,\n",
       " 'compactness_mean': 0.04118450597076681,\n",
       " 'concavity_mean': 0.022521299113847062,\n",
       " 'concave points_mean': 0.016984757674569848,\n",
       " 'symmetry_mean': 0.013707199992682316,\n",
       " 'fractal_dimension_mean': 0.011970568613961693,\n",
       " 'radius_se': 0.010116141210417361,\n",
       " 'texture_se': 0.009014011296054291,\n",
       " 'perimeter_se': 0.00794309002431327,\n",
       " 'area_se': 0.005209081021802496,\n",
       " 'smoothness_se': 0.002808416218547464,\n",
       " 'compactness_se': 0.0023075972865315326,\n",
       " 'concavity_se': 0.0019625927753066734,\n",
       " 'concave points_se': 0.0017897033070850713,\n",
       " 'symmetry_se': 0.0016178177149837186,\n",
       " 'fractal_dimension_se': 0.0010490433001594946,\n",
       " 'radius_worst': 0.0009795264293235774,\n",
       " 'texture_worst': 0.0008891776950734129,\n",
       " 'perimeter_worst': 0.00082736163444342,\n",
       " 'area_worst': 0.0005647514949979669,\n",
       " 'smoothness_worst': 0.0004913931624582355,\n",
       " 'compactness_worst': 0.0002653409554315708,\n",
       " 'concavity_worst': 0.00022600052141827324,\n",
       " 'concave points_worst': 4.816529014522265e-05,\n",
       " 'symmetry_worst': 2.4875168395091323e-05,\n",
       " 'fractal_dimension_worst': 3.942395747048105e-06}"
      ]
     },
     "execution_count": 19,
     "metadata": {},
     "output_type": "execute_result"
    }
   ],
   "source": [
    "# Check each component's importance\n",
    "variance_ratio = pca.explained_variance_ratio_\n",
    "components = features.columns.to_list()\n",
    "component_variance_ratio = dict(zip(components,variance_ratio))\n",
    "dict(sorted(component_variance_ratio.items(), key=lambda item: item[1]))\n",
    "print (\"the variance for each component : \")\n",
    "component_variance_ratio"
   ]
  },
  {
   "cell_type": "code",
   "execution_count": 20,
   "id": "1fa258fe",
   "metadata": {},
   "outputs": [
    {
     "data": {
      "image/png": "[encoded data removed]",
      "text/plain": [
       "<Figure size 432x288 with 1 Axes>"
      ]
     },
     "metadata": {
      "needs_background": "light"
     },
     "output_type": "display_data"
    }
   ],
   "source": [
    "# Plot Cumulative Variance\n",
    "plt.figure()\n",
    "plt.plot(np.cumsum(pca.explained_variance_ratio_))\n",
    "plt.xlabel('Number of Components')\n",
    "plt.ylabel('Variance (%)')\n",
    "plt.xlim((0,20))\n",
    "plt.title('Cumulative Variance Explained')\n",
    "plt.show()"
   ]
  },
  {
   "cell_type": "code",
   "execution_count": 21,
   "id": "4513a453",
   "metadata": {},
   "outputs": [
    {
     "name": "stdout",
     "output_type": "stream",
     "text": [
      "[0.4373648  0.6326785  0.72885854 0.79368651 0.84549364 0.88667815\n",
      " 0.90919944 0.9261842  0.9398914  0.95186197 0.96197811 0.97099212\n",
      " 0.97893521 0.98414429 0.98695271 0.98926031 0.9912229  0.9930126\n",
      " 0.99463042 0.99567947 0.99665899 0.99754817 0.99837553 0.99894028\n",
      " 0.99943168 0.99969702 0.99992302 0.99997118 0.99999606 1.        ]\n"
     ]
    }
   ],
   "source": [
    "# Pick 15 features to retain 95.4% variance\n",
    "print (np.cumsum(pca.explained_variance_ratio_))"
   ]
  },
  {
   "cell_type": "code",
   "execution_count": 22,
   "id": "55994545",
   "metadata": {},
   "outputs": [
    {
     "name": "stdout",
     "output_type": "stream",
     "text": [
      "(426, 10) (143, 10)\n",
      "(426, 2) (143, 2)\n"
     ]
    }
   ],
   "source": [
    "# Tranform data to reduced components\n",
    "pca = PCA(n_components=10)\n",
    "X_train_scaled_pca = pca.fit_transform(X_train_scaled)\n",
    "X_test_scaled_pca = pca.fit_transform(X_test_scaled)\n",
    "print(X_train_scaled_pca.shape,X_test_scaled_pca.shape)\n",
    "print(y_train_categorical.shape,y_test_categorical.shape)"
   ]
  },
  {
   "cell_type": "code",
   "execution_count": 23,
   "id": "dcb5ea1a",
   "metadata": {},
   "outputs": [],
   "source": [
    "# remove the bottom 15 features and create a new train test set \n",
    "# for the tested model this did not create a better outcome \n",
    "\n",
    "# remove features according their importance in PCA \n",
    "features_removed = breast_cancer_df[['radius_mean',\n",
    " 'texture_mean',\n",
    " 'perimeter_mean',\n",
    " 'area_mean',\n",
    " 'smoothness_mean',\n",
    " 'compactness_mean',\n",
    " 'concavity_mean',\n",
    " 'concave points_mean',\n",
    " 'symmetry_mean',\n",
    " 'fractal_dimension_mean',\n",
    " 'radius_se',\n",
    " 'texture_se',\n",
    " 'perimeter_se',\n",
    " 'area_se',\n",
    " 'smoothness_se']]"
   ]
  },
  {
   "cell_type": "code",
   "execution_count": null,
   "id": "1112b466",
   "metadata": {},
   "outputs": [],
   "source": []
  },
  {
   "cell_type": "code",
   "execution_count": 24,
   "id": "153d5aff",
   "metadata": {},
   "outputs": [
    {
     "data": {
      "text/plain": [
       "['scaler_allfeatures.sav']"
      ]
     },
     "execution_count": 24,
     "metadata": {},
     "output_type": "execute_result"
    }
   ],
   "source": [
    "# save the scaler\n",
    "filename = 'scaler_allfeatures.sav'\n",
    "joblib.dump(X_scaler, filename)"
   ]
  },
  {
   "cell_type": "code",
   "execution_count": 25,
   "id": "a4d72c03",
   "metadata": {},
   "outputs": [],
   "source": [
    "# Uncomment this code to load the scaler with all features \n",
    "# X_scaler = joblib.load(\"scaler_allfeatures.sav\")"
   ]
  },
  {
   "cell_type": "code",
   "execution_count": 26,
   "id": "147221cb",
   "metadata": {},
   "outputs": [],
   "source": [
    "# Uncomment this code to load the scaler with some features removed \n",
    "# X_scaler_r = joblib.load(\"scaler_features_removed.sav\")"
   ]
  },
  {
   "cell_type": "code",
   "execution_count": 27,
   "id": "aa755051",
   "metadata": {},
   "outputs": [],
   "source": [
    "# save train test data set for input with all features as csv file\n",
    "from numpy import asarray\n",
    "from numpy import savetxt\n",
    "\n",
    "savetxt('X_train_scaled.csv', X_train_scaled, delimiter=',')\n",
    "savetxt('X_test_scaled.csv', X_test_scaled , delimiter=',')\n",
    "savetxt('y_train_categorical.csv', y_train_categorical , delimiter=',')\n",
    "savetxt('y_test_categorical.csv', y_test_categorical , delimiter=',')"
   ]
  },
  {
   "cell_type": "code",
   "execution_count": 28,
   "id": "cf19993b",
   "metadata": {},
   "outputs": [],
   "source": [
    "\n",
    "# # to load numpy array from csv file uncomment this cell\n",
    "# from numpy import loadtxt\n",
    "\n",
    "# X_train_scaled = loadtxt('X_train_scaled.csv', delimiter=',')\n",
    "# X_test_scaled = loadtxt('X_test_scaled.csv', delimiter=',')\n",
    "# y_train_categorical = loadtxt('y_train_categorical.csv', delimiter=',')\n",
    "# y_test_categorical = loadtxt('y_test_categorical.csv', delimiter=',')"
   ]
  },
  {
   "cell_type": "code",
   "execution_count": 29,
   "id": "46f79f40",
   "metadata": {},
   "outputs": [],
   "source": [
    "# save train test data set for input with some features removed as csv file. The output file is already saved.\n",
    "from numpy import asarray\n",
    "from numpy import savetxt\n",
    "\n",
    "savetxt('X_train_scaled_pca.csv', X_train_scaled_pca, delimiter=',')\n",
    "savetxt('X_test_scaled_pca.csv', X_test_scaled_pca, delimiter=',')\n"
   ]
  },
  {
   "cell_type": "code",
   "execution_count": 30,
   "id": "d8473461",
   "metadata": {},
   "outputs": [],
   "source": [
    "# # to load numpy array from csv file uncomment this cell\n",
    "# from numpy import loadtxt\n",
    "\n",
    "# X_train_scaled_pca = loadtxt('X_train_scaled_pca.csv', delimiter=',')\n",
    "# X_test_scaled_pca = loadtxt('X_test_scaled_pca.csv', delimiter=',')"
   ]
  },
  {
   "cell_type": "code",
   "execution_count": null,
   "id": "a9e35770",
   "metadata": {},
   "outputs": [],
   "source": []
  }
 ],
 "metadata": {
  "kernelspec": {
   "display_name": "Python 3",
   "language": "python",
   "name": "python3"
  },
  "language_info": {
   "codemirror_mode": {
    "name": "ipython",
    "version": 3
   },
   "file_extension": ".py",
   "mimetype": "text/x-python",
   "name": "python",
   "nbconvert_exporter": "python",
   "pygments_lexer": "ipython3",
   "version": "3.8.8"
  }
 },
 "nbformat": 4,
 "nbformat_minor": 5
}
