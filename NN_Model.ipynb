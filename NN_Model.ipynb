{
 "cells": [
  {
   "cell_type": "code",
   "execution_count": null,
   "id": "d5f5aae9",
   "metadata": {},
   "outputs": [],
   "source": [
    "from tensorflow.keras.models import Sequential\n",
    "from tensorflow.keras.layers import Dense\n",
    "from sklearn.preprocessing import LabelEncoder\n",
    "import pandas as pd\n",
    "import numpy as np\n",
    "from pickle import dump"
   ]
  },
  {
   "cell_type": "markdown",
   "id": "e6020c49",
   "metadata": {},
   "source": [
    "## With All Features standard typology"
   ]
  },
  {
   "cell_type": "code",
   "execution_count": null,
   "id": "61bc66fc",
   "metadata": {},
   "outputs": [],
   "source": [
    "# Load training sets\n",
    "X_train_scaled = pd.read_csv(\"test_train_data/X_train_scaled.csv\")\n",
    "X_train_scaled_sk = pd.read_csv(\"test_train_data/X_train_scaled_sk.csv\")\n",
    "X_train_scaled_cs = pd.read_csv(\"test_train_data/X_train_scaled_cs.csv\")\n",
    "y_train_categorical = pd.read_csv(\"test_train_data/y_train_categorical.csv\")"
   ]
  },
  {
   "cell_type": "code",
   "execution_count": null,
   "id": "4e963204",
   "metadata": {},
   "outputs": [],
   "source": [
    "# Load testing sets\n",
    "X_test_scaled = pd.read_csv(\"test_train_data/X_test_scaled.csv\")\n",
    "X_test_scaled_sk = pd.read_csv(\"test_train_data/X_test_scaled_sk.csv\")\n",
    "X_test_scaled_cs = pd.read_csv(\"test_train_data/X_test_scaled_cs.csv\")\n",
    "y_test_categorical = pd.read_csv(\"test_train_data/y_test_categorical.csv\")"
   ]
  },
  {
   "cell_type": "code",
   "execution_count": null,
   "id": "ef5f7118",
   "metadata": {},
   "outputs": [],
   "source": [
    "deep_model = Sequential()\n",
    "deep_model.add(Dense(units=90, activation='relu', input_dim=X_train_scaled.shape[1]))\n",
    "deep_model.add(Dense(units=90, activation='relu'))\n",
    "deep_model.add(Dense(units=2, activation='softmax'))"
   ]
  },
  {
   "cell_type": "code",
   "execution_count": null,
   "id": "51e8d536",
   "metadata": {},
   "outputs": [],
   "source": [
    "# Compile the model\n",
    "deep_model.compile(optimizer='adam',\n",
    "              loss='categorical_crossentropy',\n",
    "              metrics=['accuracy'])"
   ]
  },
  {
   "cell_type": "code",
   "execution_count": null,
   "id": "69a505c9",
   "metadata": {},
   "outputs": [],
   "source": [
    "deep_model.summary()"
   ]
  },
  {
   "cell_type": "code",
   "execution_count": null,
   "id": "2669591b",
   "metadata": {},
   "outputs": [],
   "source": [
    "# Fit the model to the training data without PCA\n",
    "deep_model.fit(\n",
    "    X_train_scaled,\n",
    "    y_train_categorical,\n",
    "    epochs=100,\n",
    "    shuffle=True,\n",
    "    verbose=2\n",
    ")"
   ]
  },
  {
   "cell_type": "code",
   "execution_count": null,
   "id": "6a4c1fdf",
   "metadata": {},
   "outputs": [],
   "source": [
    "model_loss, model_accuracy = deep_model.evaluate(\n",
    "    X_test_scaled, y_test_categorical, verbose=2)\n",
    "print(f\"Deep Neural Network - Loss: {model_loss}, Accuracy: {model_accuracy}\")"
   ]
  },
  {
   "cell_type": "code",
   "execution_count": null,
   "id": "326c9800",
   "metadata": {},
   "outputs": [],
   "source": []
  },
  {
   "cell_type": "code",
   "execution_count": null,
   "id": "68c9eb62",
   "metadata": {},
   "outputs": [],
   "source": [
    "# # For Label comparison\n",
    "# label_encoder = LabelEncoder()\n",
    "# y_train_categorical = y_train_categorical.to_numpy()\n",
    "# y_train_categorical = y_train_categorical.ravel()\n",
    "# label_encoder.fit(y_train_categorical)\n",
    "# encoded_predictions = deep_model.predict_classes(X_test_scaled[:10])\n",
    "# prediction_labels = label_encoder.inverse_transform(encoded_predictions)\n",
    "# prediction_labels = np.where((prediction_labels == 0), \"B\", \"M\")\n",
    "# print(f\"Predicted classes: {prediction_labels}\")\n",
    "# print(f\"Actual Labels: {list(y_test_categorical[:10])}\")"
   ]
  },
  {
   "cell_type": "markdown",
   "id": "6f0069c2",
   "metadata": {},
   "source": [
    "## With SelectKBest selected Features"
   ]
  },
  {
   "cell_type": "code",
   "execution_count": null,
   "id": "dd441d9e",
   "metadata": {},
   "outputs": [],
   "source": [
    "deep_model_sk = Sequential()\n",
    "deep_model_sk.add(Dense(units=30, activation='relu', input_dim=X_train_scaled_sk.shape[1]))\n",
    "deep_model_sk.add(Dense(units=30, activation='relu'))\n",
    "deep_model_sk.add(Dense(units=2, activation='softmax'))"
   ]
  },
  {
   "cell_type": "code",
   "execution_count": null,
   "id": "7d5e930e",
   "metadata": {},
   "outputs": [],
   "source": [
    "# Compile the model\n",
    "deep_model_sk.compile(optimizer='adam',\n",
    "              loss='categorical_crossentropy',\n",
    "              metrics=['accuracy'])"
   ]
  },
  {
   "cell_type": "code",
   "execution_count": null,
   "id": "91774eaf",
   "metadata": {
    "scrolled": true
   },
   "outputs": [],
   "source": [
    "deep_model_sk.summary()"
   ]
  },
  {
   "cell_type": "code",
   "execution_count": null,
   "id": "1c8e1a01",
   "metadata": {},
   "outputs": [],
   "source": [
    "# Fit the model to the training data with SK\n",
    "deep_model_sk.fit(\n",
    "    X_train_scaled_sk,\n",
    "    y_train_categorical,\n",
    "    epochs=100,\n",
    "    shuffle=True,\n",
    "    verbose=2\n",
    ")"
   ]
  },
  {
   "cell_type": "code",
   "execution_count": null,
   "id": "38897666",
   "metadata": {},
   "outputs": [],
   "source": [
    "model_loss, model_accuracy = deep_model_sk.evaluate(\n",
    "    X_test_scaled_sk, y_test_categorical, verbose=2)\n",
    "print(f\"Deep Neural Network - Loss: {model_loss}, Accuracy: {model_accuracy}\")"
   ]
  },
  {
   "cell_type": "markdown",
   "id": "b4477dd3",
   "metadata": {},
   "source": [
    "## With Correlation-based selected Features"
   ]
  },
  {
   "cell_type": "code",
   "execution_count": null,
   "id": "2508a941",
   "metadata": {},
   "outputs": [],
   "source": [
    "deep_model_cs = Sequential()\n",
    "deep_model_cs.add(Dense(units=30, activation='relu', input_dim=X_train_scaled_cs.shape[1]))\n",
    "deep_model_cs.add(Dense(units=30, activation='relu'))\n",
    "deep_model_cs.add(Dense(units=2, activation='softmax'))"
   ]
  },
  {
   "cell_type": "code",
   "execution_count": null,
   "id": "cbf3dfaa",
   "metadata": {},
   "outputs": [],
   "source": [
    "# Compile the model\n",
    "deep_model_cs.compile(optimizer='adam',\n",
    "              loss='categorical_crossentropy',\n",
    "              metrics=['accuracy'])"
   ]
  },
  {
   "cell_type": "code",
   "execution_count": null,
   "id": "0b6f1665",
   "metadata": {
    "scrolled": true
   },
   "outputs": [],
   "source": [
    "deep_model_cs.summary()"
   ]
  },
  {
   "cell_type": "code",
   "execution_count": null,
   "id": "dca3f24c",
   "metadata": {},
   "outputs": [],
   "source": [
    "# Fit the model to the training data with PCA\n",
    "deep_model_cs.fit(\n",
    "    X_train_scaled_cs,\n",
    "    y_train_categorical,\n",
    "    epochs=100,\n",
    "    shuffle=True,\n",
    "    verbose=2\n",
    ")"
   ]
  },
  {
   "cell_type": "code",
   "execution_count": null,
   "id": "93ca9cf5",
   "metadata": {},
   "outputs": [],
   "source": [
    "model_loss, model_accuracy = deep_model_cs.evaluate(\n",
    "    X_test_scaled_cs, y_test_categorical, verbose=2)\n",
    "print(f\"Deep Neural Network - Loss: {model_loss}, Accuracy: {model_accuracy}\")"
   ]
  },
  {
   "cell_type": "markdown",
   "id": "d801247a",
   "metadata": {},
   "source": [
    "## Try out AdaGrad"
   ]
  },
  {
   "cell_type": "code",
   "execution_count": null,
   "id": "1c4398e5",
   "metadata": {},
   "outputs": [],
   "source": [
    "# deep_model_adagrad = Sequential()\n",
    "# deep_model_adagrad.add(Dense(units=90, activation='relu', input_dim=X_train_scaled.shape[1]))\n",
    "# deep_model_adagrad.add(Dense(units=90, activation='relu'))\n",
    "# deep_model_adagrad.add(Dense(units=2, activation='softmax'))"
   ]
  },
  {
   "cell_type": "code",
   "execution_count": null,
   "id": "91884c7a",
   "metadata": {},
   "outputs": [],
   "source": [
    "# # Code for mini branch gradient descent\n",
    "# deep_model_adagrad.compile(optimizer='adagrad',\n",
    "#               loss='categorical_crossentropy',\n",
    "#               metrics=['accuracy'])"
   ]
  },
  {
   "cell_type": "code",
   "execution_count": null,
   "id": "3f0a2c42",
   "metadata": {},
   "outputs": [],
   "source": [
    "# deep_model_adagrad.summary()"
   ]
  },
  {
   "cell_type": "code",
   "execution_count": null,
   "id": "0ea10f17",
   "metadata": {},
   "outputs": [],
   "source": [
    "# deep_model_adagrad.fit(\n",
    "#     X_train_scaled,\n",
    "#     y_train_categorical,\n",
    "#     epochs=100,\n",
    "#     shuffle=True,\n",
    "#     verbose=2\n",
    "# )"
   ]
  },
  {
   "cell_type": "code",
   "execution_count": null,
   "id": "ddb8c997",
   "metadata": {},
   "outputs": [],
   "source": [
    "# Save the best model\n",
    "deep_model.save(\"deep_model_trained_all.h5\")\n",
    "deep_model_sk.save(\"deep_model_trained_sk.h5\")\n",
    "deep_model_cs.save(\"deep_model_trained_cs.h5\")"
   ]
  },
  {
   "cell_type": "code",
   "execution_count": null,
   "id": "7a676826",
   "metadata": {},
   "outputs": [],
   "source": []
  }
 ],
 "metadata": {
  "kernelspec": {
   "display_name": "Python 3",
   "language": "python",
   "name": "python3"
  },
  "language_info": {
   "codemirror_mode": {
    "name": "ipython",
    "version": 3
   },
   "file_extension": ".py",
   "mimetype": "text/x-python",
   "name": "python",
   "nbconvert_exporter": "python",
   "pygments_lexer": "ipython3",
   "version": "3.8.8"
  }
 },
 "nbformat": 4,
 "nbformat_minor": 5
}
