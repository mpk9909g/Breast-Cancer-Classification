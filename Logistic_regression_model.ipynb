{
 "cells": [
  {
   "cell_type": "code",
   "execution_count": null,
   "id": "5b3d1758",
   "metadata": {},
   "outputs": [],
   "source": [
    "import pandas as pd\n",
    "import numpy as np\n",
    "from numpy import loadtxt\n",
    "from sklearn.metrics import accuracy_score\n",
    "import seaborn as sns\n",
    "from pickle import dump"
   ]
  },
  {
   "cell_type": "code",
   "execution_count": null,
   "id": "197b37fa",
   "metadata": {},
   "outputs": [],
   "source": [
    "X_train = pd. read_csv(\"test_train_data/X_train_scaled.csv\")"
   ]
  },
  {
   "cell_type": "code",
   "execution_count": null,
   "id": "63c79f48",
   "metadata": {},
   "outputs": [],
   "source": [
    "X_train\n",
    "X_train.shape"
   ]
  },
  {
   "cell_type": "code",
   "execution_count": null,
   "id": "f1494f86",
   "metadata": {},
   "outputs": [],
   "source": [
    "X_test = pd. read_csv(\"test_train_data/X_test_scaled.csv\")"
   ]
  },
  {
   "cell_type": "code",
   "execution_count": null,
   "id": "573889f9",
   "metadata": {},
   "outputs": [],
   "source": [
    "X_test"
   ]
  },
  {
   "cell_type": "code",
   "execution_count": null,
   "id": "95bb063b",
   "metadata": {},
   "outputs": [],
   "source": [
    "y_train = pd. read_csv(\"test_train_data/encoded_y_train.csv\")\n",
    "## y_train = loadtxt('y_train_categorical.csv', delimiter=',')\n",
    "##y_train = y_train.to_numpy()\n",
    "## y_train = y_train.ravel()"
   ]
  },
  {
   "cell_type": "code",
   "execution_count": null,
   "id": "16760e0e",
   "metadata": {},
   "outputs": [],
   "source": [
    "y_train = y_train.iloc[:, 0]"
   ]
  },
  {
   "cell_type": "code",
   "execution_count": null,
   "id": "f6c7fc92",
   "metadata": {},
   "outputs": [],
   "source": [
    "y_test = pd. read_csv(\"test_train_data/encoded_y_test.csv\")\n",
    "## y_test = y_test.to_numpy()\n",
    "## y_test = y_test.ravel()"
   ]
  },
  {
   "cell_type": "code",
   "execution_count": null,
   "id": "ac2962b7",
   "metadata": {},
   "outputs": [],
   "source": [
    "y_test = y_test.iloc[:, 0]"
   ]
  },
  {
   "cell_type": "code",
   "execution_count": null,
   "id": "68ddf10e",
   "metadata": {},
   "outputs": [],
   "source": [
    "from sklearn.linear_model import LogisticRegression\n",
    "from sklearn.metrics import classification_report , confusion_matrix"
   ]
  },
  {
   "cell_type": "code",
   "execution_count": null,
   "id": "3f0893a0",
   "metadata": {},
   "outputs": [],
   "source": [
    "logistic_model = LogisticRegression(random_state = 0)\n",
    "logistic_model.fit(X_train, y_train)"
   ]
  },
  {
   "cell_type": "code",
   "execution_count": null,
   "id": "8a4928d0",
   "metadata": {},
   "outputs": [],
   "source": [
    "X_train_prediction = logistic_model.predict(X_train)"
   ]
  },
  {
   "cell_type": "code",
   "execution_count": null,
   "id": "03a96004",
   "metadata": {},
   "outputs": [],
   "source": [
    "training_data_accuracy=accuracy_score(y_train,X_train_prediction)"
   ]
  },
  {
   "cell_type": "code",
   "execution_count": null,
   "id": "5c01662d",
   "metadata": {},
   "outputs": [],
   "source": [
    "print('accuracy on training data = ',training_data_accuracy )"
   ]
  },
  {
   "cell_type": "code",
   "execution_count": null,
   "id": "78627e30",
   "metadata": {},
   "outputs": [],
   "source": [
    "logistic_model.fit(X_test,y_test)"
   ]
  },
  {
   "cell_type": "code",
   "execution_count": null,
   "id": "a276f62f",
   "metadata": {},
   "outputs": [],
   "source": [
    "X_test_prediction =logistic_model.predict(X_test)\n",
    "test_data_accuracy=accuracy_score(y_test,X_test_prediction)\n",
    "print('accuracy on test data = ',test_data_accuracy )"
   ]
  },
  {
   "cell_type": "code",
   "execution_count": null,
   "id": "a3bfb017",
   "metadata": {},
   "outputs": [],
   "source": [
    "dump(logistic_model, open('logistic_model_trained_all.pkl', 'wb'))"
   ]
  },
  {
   "cell_type": "code",
   "execution_count": null,
   "id": "969950f9",
   "metadata": {},
   "outputs": [],
   "source": [
    "input_data=(20.57,17.77,132.9,1326,0.08474,0.07864,0.0869,0.07017,0.1812,0.05667,0.5435,0.7339,3.398,74.08,0.005225,0.01308,0.0186,0.0134,0.01389,0.003532,24.99,23.41,158.8,1956,0.1550,0.6700,0.7511,0.2550,0.4701,0.1200)"
   ]
  },
  {
   "cell_type": "code",
   "execution_count": null,
   "id": "51278a4d",
   "metadata": {},
   "outputs": [],
   "source": [
    "input_data_as_numpy_array = np.asarray(input_data)"
   ]
  },
  {
   "cell_type": "code",
   "execution_count": null,
   "id": "f41a889c",
   "metadata": {},
   "outputs": [],
   "source": [
    "input_data_reshaped=input_data_as_numpy_array.reshape(1,-1)"
   ]
  },
  {
   "cell_type": "code",
   "execution_count": null,
   "id": "8724261f",
   "metadata": {},
   "outputs": [],
   "source": [
    "prediction = logistic_model.predict(input_data_reshaped)\n",
    "print(prediction)"
   ]
  },
  {
   "cell_type": "code",
   "execution_count": null,
   "id": "795debfa",
   "metadata": {},
   "outputs": [],
   "source": [
    "if(prediction==0):\n",
    "    print('breast cancer is benign')\n",
    "else:\n",
    "    print('breast cancer is malignant')"
   ]
  },
  {
   "cell_type": "code",
   "execution_count": null,
   "id": "f3a16411",
   "metadata": {},
   "outputs": [],
   "source": [
    "y_predict =logistic_model.predict(X_test)\n",
    "y_predict"
   ]
  },
  {
   "cell_type": "code",
   "execution_count": null,
   "id": "1f68a870",
   "metadata": {},
   "outputs": [],
   "source": [
    "cm = confusion_matrix(y_test,y_predict)"
   ]
  },
  {
   "cell_type": "code",
   "execution_count": null,
   "id": "11aa8dfe",
   "metadata": {
    "scrolled": true
   },
   "outputs": [],
   "source": [
    "sns.heatmap(cm ,annot=True)"
   ]
  },
  {
   "cell_type": "markdown",
   "id": "23b3c069",
   "metadata": {},
   "source": [
    "## With SK feature dataset"
   ]
  },
  {
   "cell_type": "code",
   "execution_count": null,
   "id": "b0040160",
   "metadata": {},
   "outputs": [],
   "source": [
    "X_train_sk = pd. read_csv(\"test_train_data/X_train_scaled_sk.csv\")\n",
    "X_train_sk.shape"
   ]
  },
  {
   "cell_type": "code",
   "execution_count": null,
   "id": "e2175350",
   "metadata": {},
   "outputs": [],
   "source": [
    "X_test_sk = pd. read_csv(\"test_train_data/X_test_scaled_sk.csv\")\n",
    "X_test_sk.shape"
   ]
  },
  {
   "cell_type": "code",
   "execution_count": null,
   "id": "3ca5b18e",
   "metadata": {},
   "outputs": [],
   "source": [
    "logistic_model_sk = LogisticRegression(random_state = 0)\n",
    "logistic_model_sk.fit(X_train_sk, y_train)"
   ]
  },
  {
   "cell_type": "code",
   "execution_count": null,
   "id": "26934642",
   "metadata": {},
   "outputs": [],
   "source": [
    "X_train_sk_prediction = logistic_model_sk.predict(X_train_sk)"
   ]
  },
  {
   "cell_type": "code",
   "execution_count": null,
   "id": "154edbd6",
   "metadata": {},
   "outputs": [],
   "source": [
    "training_data_accuracy_sk = accuracy_score(y_train,X_train_sk_prediction)"
   ]
  },
  {
   "cell_type": "code",
   "execution_count": null,
   "id": "d2ed7b77",
   "metadata": {},
   "outputs": [],
   "source": [
    "print('accuracy on sk training data = ',training_data_accuracy_sk )"
   ]
  },
  {
   "cell_type": "code",
   "execution_count": null,
   "id": "5b98d8cb",
   "metadata": {},
   "outputs": [],
   "source": [
    "logistic_model_sk.fit(X_test_sk,y_test)"
   ]
  },
  {
   "cell_type": "code",
   "execution_count": null,
   "id": "d79a4319",
   "metadata": {},
   "outputs": [],
   "source": [
    "X_test_sk_prediction = logistic_model_sk.predict(X_test_sk)"
   ]
  },
  {
   "cell_type": "code",
   "execution_count": null,
   "id": "c4cba289",
   "metadata": {},
   "outputs": [],
   "source": [
    "test_data_accuracy_sk = accuracy_score(y_test,X_test_sk_prediction)"
   ]
  },
  {
   "cell_type": "code",
   "execution_count": null,
   "id": "66c93368",
   "metadata": {},
   "outputs": [],
   "source": [
    "print('accuracy on sk testing data = ',test_data_accuracy_sk )"
   ]
  },
  {
   "cell_type": "code",
   "execution_count": null,
   "id": "21da8f6a",
   "metadata": {},
   "outputs": [],
   "source": [
    "dump(logistic_model_sk, open('logistic_model_trained_sk.pkl', 'wb'))"
   ]
  },
  {
   "cell_type": "markdown",
   "id": "108f6f95",
   "metadata": {},
   "source": [
    "## With Correlation feature dataset"
   ]
  },
  {
   "cell_type": "code",
   "execution_count": null,
   "id": "3c372803",
   "metadata": {},
   "outputs": [],
   "source": [
    "X_train_cs = pd. read_csv(\"test_train_data/X_train_scaled_cs.csv\")\n",
    "X_train_cs.shape"
   ]
  },
  {
   "cell_type": "code",
   "execution_count": null,
   "id": "ceb6a639",
   "metadata": {},
   "outputs": [],
   "source": [
    "X_test_cs = pd. read_csv(\"test_train_data/X_test_scaled_cs.csv\")\n",
    "X_test_cs.shape"
   ]
  },
  {
   "cell_type": "code",
   "execution_count": null,
   "id": "57f4d20e",
   "metadata": {},
   "outputs": [],
   "source": [
    "logistic_model_cs = LogisticRegression(random_state = 0)\n",
    "logistic_model_cs.fit(X_train_cs, y_train)"
   ]
  },
  {
   "cell_type": "code",
   "execution_count": null,
   "id": "9ad7b598",
   "metadata": {},
   "outputs": [],
   "source": [
    "X_train_cs_prediction = logistic_model_cs.predict(X_train_cs)"
   ]
  },
  {
   "cell_type": "code",
   "execution_count": null,
   "id": "e25c9170",
   "metadata": {},
   "outputs": [],
   "source": [
    "training_data_accuracy_cs = accuracy_score(y_train,X_train_cs_prediction)"
   ]
  },
  {
   "cell_type": "code",
   "execution_count": null,
   "id": "beba4dfd",
   "metadata": {},
   "outputs": [],
   "source": [
    "print('accuracy on cs training data = ',training_data_accuracy_cs )"
   ]
  },
  {
   "cell_type": "code",
   "execution_count": null,
   "id": "635c9aed",
   "metadata": {},
   "outputs": [],
   "source": [
    "logistic_model_cs.fit(X_test_cs,y_test)"
   ]
  },
  {
   "cell_type": "code",
   "execution_count": null,
   "id": "a29eba28",
   "metadata": {},
   "outputs": [],
   "source": [
    "X_test_cs_prediction = logistic_model_cs.predict(X_test_cs)"
   ]
  },
  {
   "cell_type": "code",
   "execution_count": null,
   "id": "41682092",
   "metadata": {},
   "outputs": [],
   "source": [
    "test_data_accuracy_cs = accuracy_score(y_test,X_test_cs_prediction)"
   ]
  },
  {
   "cell_type": "code",
   "execution_count": null,
   "id": "c0d5f7a9",
   "metadata": {},
   "outputs": [],
   "source": [
    "print('accuracy on cs testing data = ',test_data_accuracy_cs )"
   ]
  },
  {
   "cell_type": "code",
   "execution_count": null,
   "id": "9c9cb369",
   "metadata": {},
   "outputs": [],
   "source": [
    "dump(logistic_model_cs, open('logistic_model_trained_cs.pkl', 'wb'))"
   ]
  },
  {
   "cell_type": "code",
   "execution_count": null,
   "id": "2ddb9a01",
   "metadata": {},
   "outputs": [],
   "source": []
  }
 ],
 "metadata": {
  "kernelspec": {
   "display_name": "Python 3",
   "language": "python",
   "name": "python3"
  },
  "language_info": {
   "codemirror_mode": {
    "name": "ipython",
    "version": 3
   },
   "file_extension": ".py",
   "mimetype": "text/x-python",
   "name": "python",
   "nbconvert_exporter": "python",
   "pygments_lexer": "ipython3",
   "version": "3.8.8"
  }
 },
 "nbformat": 4,
 "nbformat_minor": 5
}
