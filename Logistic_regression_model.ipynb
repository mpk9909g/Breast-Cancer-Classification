{
 "cells": [
  {
   "cell_type": "code",
   "execution_count": 1,
   "id": "5b3d1758",
   "metadata": {},
   "outputs": [],
   "source": [
    "import pandas as pd\n",
    "import numpy as np\n",
    "from numpy import loadtxt\n",
    "from sklearn.metrics import accuracy_score\n",
    "import seaborn as sns"
   ]
  },
  {
   "cell_type": "code",
   "execution_count": 2,
   "id": "197b37fa",
   "metadata": {},
   "outputs": [],
   "source": [
    "X_train = pd. read_csv(\"X_train_scaled.csv\")"
   ]
  },
  {
   "cell_type": "code",
   "execution_count": 3,
   "id": "63c79f48",
   "metadata": {},
   "outputs": [
    {
     "data": {
      "text/plain": [
       "(425, 30)"
      ]
     },
     "execution_count": 3,
     "metadata": {},
     "output_type": "execute_result"
    }
   ],
   "source": [
    "X_train\n",
    "X_train.shape"
   ]
  },
  {
   "cell_type": "code",
   "execution_count": 4,
   "id": "f1494f86",
   "metadata": {},
   "outputs": [],
   "source": [
    "X_test = pd. read_csv(\"X_test_scaled.csv\")"
   ]
  },
  {
   "cell_type": "code",
   "execution_count": 5,
   "id": "573889f9",
   "metadata": {},
   "outputs": [
    {
     "data": {
      "text/html": [
       "<div>\n",
       "<style scoped>\n",
       "    .dataframe tbody tr th:only-of-type {\n",
       "        vertical-align: middle;\n",
       "    }\n",
       "\n",
       "    .dataframe tbody tr th {\n",
       "        vertical-align: top;\n",
       "    }\n",
       "\n",
       "    .dataframe thead th {\n",
       "        text-align: right;\n",
       "    }\n",
       "</style>\n",
       "<table border=\"1\" class=\"dataframe\">\n",
       "  <thead>\n",
       "    <tr style=\"text-align: right;\">\n",
       "      <th></th>\n",
       "      <th>-4.680988235339657022e-01</th>\n",
       "      <th>-1.417132214436515325e-01</th>\n",
       "      <th>-4.446804212154359393e-01</th>\n",
       "      <th>-4.859789991757254013e-01</th>\n",
       "      <th>2.933710712031453172e-01</th>\n",
       "      <th>6.406158886286562881e-02</th>\n",
       "      <th>-9.450340705455509416e-02</th>\n",
       "      <th>-2.521142224818700983e-01</th>\n",
       "      <th>4.657345855505237164e-01</th>\n",
       "      <th>1.555962001287494179e-01</th>\n",
       "      <th>...</th>\n",
       "      <th>-2.600211350729509374e-01</th>\n",
       "      <th>-1.440020011235441655e-01</th>\n",
       "      <th>-3.280289282276123153e-01</th>\n",
       "      <th>-3.468429726465727669e-01</th>\n",
       "      <th>4.913802439952560941e-01</th>\n",
       "      <th>-6.654264734360894329e-02</th>\n",
       "      <th>-3.006618500844384159e-03</th>\n",
       "      <th>-1.733109153598020313e-01</th>\n",
       "      <th>2.211716272784566839e-01</th>\n",
       "      <th>2.365598538806184259e-01</th>\n",
       "    </tr>\n",
       "  </thead>\n",
       "  <tbody>\n",
       "    <tr>\n",
       "      <th>0</th>\n",
       "      <td>1.364457</td>\n",
       "      <td>0.499588</td>\n",
       "      <td>1.306438</td>\n",
       "      <td>1.334411</td>\n",
       "      <td>-0.391720</td>\n",
       "      <td>0.007650</td>\n",
       "      <td>0.261460</td>\n",
       "      <td>0.840001</td>\n",
       "      <td>-0.814742</td>\n",
       "      <td>-1.107774</td>\n",
       "      <td>...</td>\n",
       "      <td>1.810752</td>\n",
       "      <td>0.178262</td>\n",
       "      <td>1.786327</td>\n",
       "      <td>1.757553</td>\n",
       "      <td>-0.513093</td>\n",
       "      <td>-0.094689</td>\n",
       "      <td>0.005044</td>\n",
       "      <td>1.029430</td>\n",
       "      <td>-0.531619</td>\n",
       "      <td>-0.994057</td>\n",
       "    </tr>\n",
       "    <tr>\n",
       "      <th>1</th>\n",
       "      <td>0.378785</td>\n",
       "      <td>0.066532</td>\n",
       "      <td>0.404309</td>\n",
       "      <td>0.263973</td>\n",
       "      <td>0.977745</td>\n",
       "      <td>0.385023</td>\n",
       "      <td>0.753059</td>\n",
       "      <td>0.875964</td>\n",
       "      <td>0.488134</td>\n",
       "      <td>-0.643707</td>\n",
       "      <td>...</td>\n",
       "      <td>0.638221</td>\n",
       "      <td>0.081915</td>\n",
       "      <td>0.545259</td>\n",
       "      <td>0.499981</td>\n",
       "      <td>1.008706</td>\n",
       "      <td>-0.055820</td>\n",
       "      <td>0.560546</td>\n",
       "      <td>0.602100</td>\n",
       "      <td>-0.066612</td>\n",
       "      <td>-0.179720</td>\n",
       "    </tr>\n",
       "    <tr>\n",
       "      <th>2</th>\n",
       "      <td>-0.487926</td>\n",
       "      <td>-0.359424</td>\n",
       "      <td>-0.429027</td>\n",
       "      <td>-0.525583</td>\n",
       "      <td>0.705429</td>\n",
       "      <td>0.565928</td>\n",
       "      <td>-0.128126</td>\n",
       "      <td>-0.522366</td>\n",
       "      <td>0.040153</td>\n",
       "      <td>1.165461</td>\n",
       "      <td>...</td>\n",
       "      <td>-0.697626</td>\n",
       "      <td>-0.431382</td>\n",
       "      <td>-0.522967</td>\n",
       "      <td>-0.633959</td>\n",
       "      <td>0.594845</td>\n",
       "      <td>0.101666</td>\n",
       "      <td>-0.137857</td>\n",
       "      <td>-0.605303</td>\n",
       "      <td>-0.523489</td>\n",
       "      <td>0.583365</td>\n",
       "    </tr>\n",
       "    <tr>\n",
       "      <th>3</th>\n",
       "      <td>-0.731511</td>\n",
       "      <td>-1.126145</td>\n",
       "      <td>-0.709964</td>\n",
       "      <td>-0.707875</td>\n",
       "      <td>0.306987</td>\n",
       "      <td>0.184665</td>\n",
       "      <td>-0.255992</td>\n",
       "      <td>-0.576575</td>\n",
       "      <td>0.066286</td>\n",
       "      <td>0.722173</td>\n",
       "      <td>...</td>\n",
       "      <td>-0.827442</td>\n",
       "      <td>-0.967936</td>\n",
       "      <td>-0.850791</td>\n",
       "      <td>-0.736690</td>\n",
       "      <td>0.142186</td>\n",
       "      <td>-0.240782</td>\n",
       "      <td>-0.442779</td>\n",
       "      <td>-0.675541</td>\n",
       "      <td>-0.892568</td>\n",
       "      <td>-0.114232</td>\n",
       "    </tr>\n",
       "    <tr>\n",
       "      <th>4</th>\n",
       "      <td>1.834633</td>\n",
       "      <td>2.397459</td>\n",
       "      <td>1.986124</td>\n",
       "      <td>1.713601</td>\n",
       "      <td>1.594041</td>\n",
       "      <td>3.394274</td>\n",
       "      <td>3.361334</td>\n",
       "      <td>2.756887</td>\n",
       "      <td>2.227790</td>\n",
       "      <td>1.046327</td>\n",
       "      <td>...</td>\n",
       "      <td>1.995007</td>\n",
       "      <td>2.311187</td>\n",
       "      <td>2.352375</td>\n",
       "      <td>1.677847</td>\n",
       "      <td>1.457054</td>\n",
       "      <td>4.157426</td>\n",
       "      <td>3.376297</td>\n",
       "      <td>2.367363</td>\n",
       "      <td>1.965759</td>\n",
       "      <td>2.315113</td>\n",
       "    </tr>\n",
       "    <tr>\n",
       "      <th>...</th>\n",
       "      <td>...</td>\n",
       "      <td>...</td>\n",
       "      <td>...</td>\n",
       "      <td>...</td>\n",
       "      <td>...</td>\n",
       "      <td>...</td>\n",
       "      <td>...</td>\n",
       "      <td>...</td>\n",
       "      <td>...</td>\n",
       "      <td>...</td>\n",
       "      <td>...</td>\n",
       "      <td>...</td>\n",
       "      <td>...</td>\n",
       "      <td>...</td>\n",
       "      <td>...</td>\n",
       "      <td>...</td>\n",
       "      <td>...</td>\n",
       "      <td>...</td>\n",
       "      <td>...</td>\n",
       "      <td>...</td>\n",
       "      <td>...</td>\n",
       "    </tr>\n",
       "    <tr>\n",
       "      <th>137</th>\n",
       "      <td>0.146530</td>\n",
       "      <td>-0.936832</td>\n",
       "      <td>0.160034</td>\n",
       "      <td>-0.008481</td>\n",
       "      <td>1.264394</td>\n",
       "      <td>0.610668</td>\n",
       "      <td>0.155244</td>\n",
       "      <td>0.605447</td>\n",
       "      <td>1.178770</td>\n",
       "      <td>0.118194</td>\n",
       "      <td>...</td>\n",
       "      <td>0.026830</td>\n",
       "      <td>-1.207142</td>\n",
       "      <td>0.076075</td>\n",
       "      <td>-0.124200</td>\n",
       "      <td>-0.150966</td>\n",
       "      <td>0.409936</td>\n",
       "      <td>-0.036719</td>\n",
       "      <td>0.420290</td>\n",
       "      <td>0.443920</td>\n",
       "      <td>0.078818</td>\n",
       "    </tr>\n",
       "    <tr>\n",
       "      <th>138</th>\n",
       "      <td>0.092714</td>\n",
       "      <td>0.241647</td>\n",
       "      <td>0.107307</td>\n",
       "      <td>-0.034322</td>\n",
       "      <td>0.226725</td>\n",
       "      <td>0.351954</td>\n",
       "      <td>0.388817</td>\n",
       "      <td>0.318800</td>\n",
       "      <td>0.559064</td>\n",
       "      <td>0.284427</td>\n",
       "      <td>...</td>\n",
       "      <td>0.443497</td>\n",
       "      <td>0.766312</td>\n",
       "      <td>0.333370</td>\n",
       "      <td>0.301603</td>\n",
       "      <td>1.034572</td>\n",
       "      <td>1.057973</td>\n",
       "      <td>1.152276</td>\n",
       "      <td>1.105573</td>\n",
       "      <td>3.048607</td>\n",
       "      <td>1.022424</td>\n",
       "    </tr>\n",
       "    <tr>\n",
       "      <th>139</th>\n",
       "      <td>-0.873130</td>\n",
       "      <td>-0.560570</td>\n",
       "      <td>-0.863614</td>\n",
       "      <td>-0.791297</td>\n",
       "      <td>0.870252</td>\n",
       "      <td>-0.475931</td>\n",
       "      <td>-0.726068</td>\n",
       "      <td>-0.606721</td>\n",
       "      <td>-0.321964</td>\n",
       "      <td>0.109882</td>\n",
       "      <td>...</td>\n",
       "      <td>-0.796035</td>\n",
       "      <td>0.155006</td>\n",
       "      <td>-0.815981</td>\n",
       "      <td>-0.712601</td>\n",
       "      <td>0.245651</td>\n",
       "      <td>-0.666999</td>\n",
       "      <td>-0.810095</td>\n",
       "      <td>-0.595824</td>\n",
       "      <td>0.195157</td>\n",
       "      <td>-0.258307</td>\n",
       "    </tr>\n",
       "    <tr>\n",
       "      <th>140</th>\n",
       "      <td>1.610875</td>\n",
       "      <td>0.698367</td>\n",
       "      <td>1.570074</td>\n",
       "      <td>1.699557</td>\n",
       "      <td>0.197344</td>\n",
       "      <td>0.003760</td>\n",
       "      <td>0.769615</td>\n",
       "      <td>1.249081</td>\n",
       "      <td>-0.814742</td>\n",
       "      <td>-1.199202</td>\n",
       "      <td>...</td>\n",
       "      <td>2.325828</td>\n",
       "      <td>0.892560</td>\n",
       "      <td>2.418969</td>\n",
       "      <td>2.699846</td>\n",
       "      <td>0.862130</td>\n",
       "      <td>0.450815</td>\n",
       "      <td>1.356061</td>\n",
       "      <td>1.960234</td>\n",
       "      <td>-0.178799</td>\n",
       "      <td>-0.409785</td>\n",
       "    </tr>\n",
       "    <tr>\n",
       "      <th>141</th>\n",
       "      <td>-1.094057</td>\n",
       "      <td>-1.651491</td>\n",
       "      <td>-1.076582</td>\n",
       "      <td>-0.936231</td>\n",
       "      <td>0.315586</td>\n",
       "      <td>-0.526896</td>\n",
       "      <td>-0.869090</td>\n",
       "      <td>-0.742111</td>\n",
       "      <td>-0.000911</td>\n",
       "      <td>0.427110</td>\n",
       "      <td>...</td>\n",
       "      <td>-1.011697</td>\n",
       "      <td>-1.637382</td>\n",
       "      <td>-1.018789</td>\n",
       "      <td>-0.848809</td>\n",
       "      <td>0.133563</td>\n",
       "      <td>-0.554413</td>\n",
       "      <td>-0.913496</td>\n",
       "      <td>-0.710038</td>\n",
       "      <td>0.095978</td>\n",
       "      <td>-0.348852</td>\n",
       "    </tr>\n",
       "  </tbody>\n",
       "</table>\n",
       "<p>142 rows × 30 columns</p>\n",
       "</div>"
      ],
      "text/plain": [
       "     -4.680988235339657022e-01  -1.417132214436515325e-01  \\\n",
       "0                     1.364457                   0.499588   \n",
       "1                     0.378785                   0.066532   \n",
       "2                    -0.487926                  -0.359424   \n",
       "3                    -0.731511                  -1.126145   \n",
       "4                     1.834633                   2.397459   \n",
       "..                         ...                        ...   \n",
       "137                   0.146530                  -0.936832   \n",
       "138                   0.092714                   0.241647   \n",
       "139                  -0.873130                  -0.560570   \n",
       "140                   1.610875                   0.698367   \n",
       "141                  -1.094057                  -1.651491   \n",
       "\n",
       "     -4.446804212154359393e-01  -4.859789991757254013e-01  \\\n",
       "0                     1.306438                   1.334411   \n",
       "1                     0.404309                   0.263973   \n",
       "2                    -0.429027                  -0.525583   \n",
       "3                    -0.709964                  -0.707875   \n",
       "4                     1.986124                   1.713601   \n",
       "..                         ...                        ...   \n",
       "137                   0.160034                  -0.008481   \n",
       "138                   0.107307                  -0.034322   \n",
       "139                  -0.863614                  -0.791297   \n",
       "140                   1.570074                   1.699557   \n",
       "141                  -1.076582                  -0.936231   \n",
       "\n",
       "     2.933710712031453172e-01  6.406158886286562881e-02  \\\n",
       "0                   -0.391720                  0.007650   \n",
       "1                    0.977745                  0.385023   \n",
       "2                    0.705429                  0.565928   \n",
       "3                    0.306987                  0.184665   \n",
       "4                    1.594041                  3.394274   \n",
       "..                        ...                       ...   \n",
       "137                  1.264394                  0.610668   \n",
       "138                  0.226725                  0.351954   \n",
       "139                  0.870252                 -0.475931   \n",
       "140                  0.197344                  0.003760   \n",
       "141                  0.315586                 -0.526896   \n",
       "\n",
       "     -9.450340705455509416e-02  -2.521142224818700983e-01  \\\n",
       "0                     0.261460                   0.840001   \n",
       "1                     0.753059                   0.875964   \n",
       "2                    -0.128126                  -0.522366   \n",
       "3                    -0.255992                  -0.576575   \n",
       "4                     3.361334                   2.756887   \n",
       "..                         ...                        ...   \n",
       "137                   0.155244                   0.605447   \n",
       "138                   0.388817                   0.318800   \n",
       "139                  -0.726068                  -0.606721   \n",
       "140                   0.769615                   1.249081   \n",
       "141                  -0.869090                  -0.742111   \n",
       "\n",
       "     4.657345855505237164e-01  1.555962001287494179e-01  ...  \\\n",
       "0                   -0.814742                 -1.107774  ...   \n",
       "1                    0.488134                 -0.643707  ...   \n",
       "2                    0.040153                  1.165461  ...   \n",
       "3                    0.066286                  0.722173  ...   \n",
       "4                    2.227790                  1.046327  ...   \n",
       "..                        ...                       ...  ...   \n",
       "137                  1.178770                  0.118194  ...   \n",
       "138                  0.559064                  0.284427  ...   \n",
       "139                 -0.321964                  0.109882  ...   \n",
       "140                 -0.814742                 -1.199202  ...   \n",
       "141                 -0.000911                  0.427110  ...   \n",
       "\n",
       "     -2.600211350729509374e-01  -1.440020011235441655e-01  \\\n",
       "0                     1.810752                   0.178262   \n",
       "1                     0.638221                   0.081915   \n",
       "2                    -0.697626                  -0.431382   \n",
       "3                    -0.827442                  -0.967936   \n",
       "4                     1.995007                   2.311187   \n",
       "..                         ...                        ...   \n",
       "137                   0.026830                  -1.207142   \n",
       "138                   0.443497                   0.766312   \n",
       "139                  -0.796035                   0.155006   \n",
       "140                   2.325828                   0.892560   \n",
       "141                  -1.011697                  -1.637382   \n",
       "\n",
       "     -3.280289282276123153e-01  -3.468429726465727669e-01  \\\n",
       "0                     1.786327                   1.757553   \n",
       "1                     0.545259                   0.499981   \n",
       "2                    -0.522967                  -0.633959   \n",
       "3                    -0.850791                  -0.736690   \n",
       "4                     2.352375                   1.677847   \n",
       "..                         ...                        ...   \n",
       "137                   0.076075                  -0.124200   \n",
       "138                   0.333370                   0.301603   \n",
       "139                  -0.815981                  -0.712601   \n",
       "140                   2.418969                   2.699846   \n",
       "141                  -1.018789                  -0.848809   \n",
       "\n",
       "     4.913802439952560941e-01  -6.654264734360894329e-02  \\\n",
       "0                   -0.513093                  -0.094689   \n",
       "1                    1.008706                  -0.055820   \n",
       "2                    0.594845                   0.101666   \n",
       "3                    0.142186                  -0.240782   \n",
       "4                    1.457054                   4.157426   \n",
       "..                        ...                        ...   \n",
       "137                 -0.150966                   0.409936   \n",
       "138                  1.034572                   1.057973   \n",
       "139                  0.245651                  -0.666999   \n",
       "140                  0.862130                   0.450815   \n",
       "141                  0.133563                  -0.554413   \n",
       "\n",
       "     -3.006618500844384159e-03  -1.733109153598020313e-01  \\\n",
       "0                     0.005044                   1.029430   \n",
       "1                     0.560546                   0.602100   \n",
       "2                    -0.137857                  -0.605303   \n",
       "3                    -0.442779                  -0.675541   \n",
       "4                     3.376297                   2.367363   \n",
       "..                         ...                        ...   \n",
       "137                  -0.036719                   0.420290   \n",
       "138                   1.152276                   1.105573   \n",
       "139                  -0.810095                  -0.595824   \n",
       "140                   1.356061                   1.960234   \n",
       "141                  -0.913496                  -0.710038   \n",
       "\n",
       "     2.211716272784566839e-01  2.365598538806184259e-01  \n",
       "0                   -0.531619                 -0.994057  \n",
       "1                   -0.066612                 -0.179720  \n",
       "2                   -0.523489                  0.583365  \n",
       "3                   -0.892568                 -0.114232  \n",
       "4                    1.965759                  2.315113  \n",
       "..                        ...                       ...  \n",
       "137                  0.443920                  0.078818  \n",
       "138                  3.048607                  1.022424  \n",
       "139                  0.195157                 -0.258307  \n",
       "140                 -0.178799                 -0.409785  \n",
       "141                  0.095978                 -0.348852  \n",
       "\n",
       "[142 rows x 30 columns]"
      ]
     },
     "execution_count": 5,
     "metadata": {},
     "output_type": "execute_result"
    }
   ],
   "source": [
    "X_test"
   ]
  },
  {
   "cell_type": "code",
   "execution_count": 6,
   "id": "95bb063b",
   "metadata": {},
   "outputs": [],
   "source": [
    "y_train = pd. read_csv(\"y_train_categorical.csv\")\n",
    "## y_train = loadtxt('y_train_categorical.csv', delimiter=',')\n",
    "##y_train = y_train.to_numpy()\n",
    "## y_train = y_train.ravel()"
   ]
  },
  {
   "cell_type": "code",
   "execution_count": 7,
   "id": "16760e0e",
   "metadata": {},
   "outputs": [],
   "source": [
    "y_train = y_train.iloc[:, 0]"
   ]
  },
  {
   "cell_type": "code",
   "execution_count": 8,
   "id": "f6c7fc92",
   "metadata": {},
   "outputs": [],
   "source": [
    "y_test = pd. read_csv(\"y_test_categorical.csv\")\n",
    "## y_test = y_test.to_numpy()\n",
    "## y_test = y_test.ravel()"
   ]
  },
  {
   "cell_type": "code",
   "execution_count": 9,
   "id": "ac2962b7",
   "metadata": {},
   "outputs": [],
   "source": [
    "y_test = y_test.iloc[:, 0]"
   ]
  },
  {
   "cell_type": "code",
   "execution_count": 11,
   "id": "68ddf10e",
   "metadata": {},
   "outputs": [],
   "source": [
    "from sklearn.linear_model import LogisticRegression\n",
    "from sklearn.metrics import classification_report , confusion_matrix"
   ]
  },
  {
   "cell_type": "code",
   "execution_count": 12,
   "id": "3f0893a0",
   "metadata": {},
   "outputs": [
    {
     "data": {
      "text/plain": [
       "LogisticRegression(random_state=0)"
      ]
     },
     "execution_count": 12,
     "metadata": {},
     "output_type": "execute_result"
    }
   ],
   "source": [
    "logistic_model = LogisticRegression(random_state = 0)\n",
    "logistic_model.fit(X_train, y_train)"
   ]
  },
  {
   "cell_type": "code",
   "execution_count": 13,
   "id": "8a4928d0",
   "metadata": {},
   "outputs": [],
   "source": [
    "X_train_prediction = logistic_model.predict(X_train)"
   ]
  },
  {
   "cell_type": "code",
   "execution_count": 14,
   "id": "03a96004",
   "metadata": {},
   "outputs": [],
   "source": [
    "training_data_accuracy=accuracy_score(y_train,X_train_prediction)"
   ]
  },
  {
   "cell_type": "code",
   "execution_count": 15,
   "id": "5c01662d",
   "metadata": {},
   "outputs": [
    {
     "name": "stdout",
     "output_type": "stream",
     "text": [
      "accuracy on training data =  0.9858823529411764\n"
     ]
    }
   ],
   "source": [
    "print('accuracy on training data = ',training_data_accuracy )"
   ]
  },
  {
   "cell_type": "code",
   "execution_count": 16,
   "id": "78627e30",
   "metadata": {},
   "outputs": [
    {
     "data": {
      "text/plain": [
       "LogisticRegression(random_state=0)"
      ]
     },
     "execution_count": 16,
     "metadata": {},
     "output_type": "execute_result"
    }
   ],
   "source": [
    "logistic_model.fit(X_test,y_test)"
   ]
  },
  {
   "cell_type": "code",
   "execution_count": 17,
   "id": "a276f62f",
   "metadata": {},
   "outputs": [
    {
     "name": "stdout",
     "output_type": "stream",
     "text": [
      "accuracy on test data =  0.9929577464788732\n"
     ]
    }
   ],
   "source": [
    "X_test_prediction =logistic_model.predict(X_test)\n",
    "test_data_accuracy=accuracy_score(y_test,X_test_prediction)\n",
    "print('accuracy on test data = ',test_data_accuracy )"
   ]
  },
  {
   "cell_type": "code",
   "execution_count": 18,
   "id": "969950f9",
   "metadata": {},
   "outputs": [],
   "source": [
    "input_data=(20.57,17.77,132.9,1326,0.08474,0.07864,0.0869,0.07017,0.1812,0.05667,0.5435,0.7339,3.398,74.08,0.005225,0.01308,0.0186,0.0134,0.01389,0.003532,24.99,23.41,158.8,1956,0.1550,0.6700,0.7511,0.2550,0.4701,0.1200)"
   ]
  },
  {
   "cell_type": "code",
   "execution_count": 19,
   "id": "51278a4d",
   "metadata": {},
   "outputs": [],
   "source": [
    "input_data_as_numpy_array = np.asarray(input_data)"
   ]
  },
  {
   "cell_type": "code",
   "execution_count": 20,
   "id": "f41a889c",
   "metadata": {},
   "outputs": [],
   "source": [
    "input_data_reshaped=input_data_as_numpy_array.reshape(1,-1)"
   ]
  },
  {
   "cell_type": "code",
   "execution_count": 21,
   "id": "8724261f",
   "metadata": {},
   "outputs": [
    {
     "name": "stdout",
     "output_type": "stream",
     "text": [
      "[0.]\n"
     ]
    }
   ],
   "source": [
    "prediction = logistic_model.predict(input_data_reshaped)\n",
    "print(prediction)"
   ]
  },
  {
   "cell_type": "code",
   "execution_count": 22,
   "id": "795debfa",
   "metadata": {},
   "outputs": [
    {
     "name": "stdout",
     "output_type": "stream",
     "text": [
      "breast cancer is malignannt\n"
     ]
    }
   ],
   "source": [
    "if(prediction==0):\n",
    "    print('breast cancer is malignannt')\n",
    "else:\n",
    "    print('breast cancer is benign')"
   ]
  },
  {
   "cell_type": "code",
   "execution_count": 23,
   "id": "f3a16411",
   "metadata": {},
   "outputs": [
    {
     "data": {
      "text/plain": [
       "array([0., 0., 1., 1., 0., 0., 0., 1., 1., 1., 0., 1., 0., 1., 0., 1., 1.,\n",
       "       1., 0., 1., 1., 0., 1., 1., 1., 1., 1., 1., 0., 1., 1., 1., 1., 1.,\n",
       "       1., 0., 1., 0., 1., 1., 0., 1., 1., 1., 1., 1., 1., 1., 1., 0., 0.,\n",
       "       1., 1., 1., 1., 1., 0., 0., 1., 1., 0., 0., 1., 1., 1., 0., 0., 1.,\n",
       "       1., 0., 0., 1., 0., 1., 1., 1., 0., 1., 1., 0., 1., 0., 0., 0., 0.,\n",
       "       0., 0., 1., 1., 1., 1., 1., 1., 1., 1., 0., 0., 1., 0., 0., 1., 0.,\n",
       "       0., 1., 1., 1., 0., 1., 1., 0., 1., 1., 0., 1., 0., 1., 1., 1., 0.,\n",
       "       1., 1., 1., 0., 1., 0., 0., 1., 1., 0., 0., 0., 1., 1., 1., 0., 1.,\n",
       "       1., 1., 0., 1., 0., 1.])"
      ]
     },
     "execution_count": 23,
     "metadata": {},
     "output_type": "execute_result"
    }
   ],
   "source": [
    "y_predict =logistic_model.predict(X_test)\n",
    "y_predict"
   ]
  },
  {
   "cell_type": "code",
   "execution_count": 24,
   "id": "1f68a870",
   "metadata": {},
   "outputs": [],
   "source": [
    "cm = confusion_matrix(y_test,y_predict)"
   ]
  },
  {
   "cell_type": "code",
   "execution_count": 25,
   "id": "11aa8dfe",
   "metadata": {
    "scrolled": true
   },
   "outputs": [
    {
     "data": {
      "text/plain": [
       "<AxesSubplot:>"
      ]
     },
     "execution_count": 25,
     "metadata": {},
     "output_type": "execute_result"
    },
    {
     "data": {
      "image/png": "[encoded data removed]",
      "text/plain": [
       "<Figure size 432x288 with 2 Axes>"
      ]
     },
     "metadata": {
      "needs_background": "light"
     },
     "output_type": "display_data"
    }
   ],
   "source": [
    "sns.heatmap(cm ,annot=True)"
   ]
  },
  {
   "cell_type": "markdown",
   "id": "23b3c069",
   "metadata": {},
   "source": [
    "## With PCA dataset"
   ]
  },
  {
   "cell_type": "code",
   "execution_count": 26,
   "id": "b0040160",
   "metadata": {},
   "outputs": [
    {
     "data": {
      "text/plain": [
       "(425, 10)"
      ]
     },
     "execution_count": 26,
     "metadata": {},
     "output_type": "execute_result"
    }
   ],
   "source": [
    "X_train_pca = pd. read_csv(\"X_train_scaled_pca.csv\")\n",
    "X_train_pca.shape"
   ]
  },
  {
   "cell_type": "code",
   "execution_count": 27,
   "id": "e2175350",
   "metadata": {},
   "outputs": [
    {
     "data": {
      "text/plain": [
       "(142, 10)"
      ]
     },
     "execution_count": 27,
     "metadata": {},
     "output_type": "execute_result"
    }
   ],
   "source": [
    "X_test_pca = pd. read_csv(\"X_test_scaled_pca.csv\")\n",
    "X_test_pca.shape"
   ]
  },
  {
   "cell_type": "code",
   "execution_count": 28,
   "id": "3ca5b18e",
   "metadata": {},
   "outputs": [
    {
     "data": {
      "text/plain": [
       "LogisticRegression(random_state=0)"
      ]
     },
     "execution_count": 28,
     "metadata": {},
     "output_type": "execute_result"
    }
   ],
   "source": [
    "logistic_model_pca = LogisticRegression(random_state = 0)\n",
    "logistic_model_pca.fit(X_train_pca, y_train)"
   ]
  },
  {
   "cell_type": "code",
   "execution_count": 29,
   "id": "26934642",
   "metadata": {},
   "outputs": [],
   "source": [
    "X_train_pca_prediction = logistic_model_pca.predict(X_train_pca)"
   ]
  },
  {
   "cell_type": "code",
   "execution_count": 30,
   "id": "154edbd6",
   "metadata": {},
   "outputs": [],
   "source": [
    "training_data_accuracy_pca = accuracy_score(y_train,X_train_pca_prediction)"
   ]
  },
  {
   "cell_type": "code",
   "execution_count": 31,
   "id": "d2ed7b77",
   "metadata": {},
   "outputs": [
    {
     "name": "stdout",
     "output_type": "stream",
     "text": [
      "accuracy on pca training data =  0.9858823529411764\n"
     ]
    }
   ],
   "source": [
    "print('accuracy on pca training data = ',training_data_accuracy_pca )"
   ]
  },
  {
   "cell_type": "code",
   "execution_count": 32,
   "id": "5b98d8cb",
   "metadata": {},
   "outputs": [
    {
     "data": {
      "text/plain": [
       "LogisticRegression(random_state=0)"
      ]
     },
     "execution_count": 32,
     "metadata": {},
     "output_type": "execute_result"
    }
   ],
   "source": [
    "logistic_model_pca.fit(X_test_pca,y_test)"
   ]
  },
  {
   "cell_type": "code",
   "execution_count": 33,
   "id": "d79a4319",
   "metadata": {},
   "outputs": [],
   "source": [
    "X_test_pca_prediction = logistic_model_pca.predict(X_test_pca)"
   ]
  },
  {
   "cell_type": "code",
   "execution_count": 34,
   "id": "c4cba289",
   "metadata": {},
   "outputs": [],
   "source": [
    "test_data_accuracy_pca = accuracy_score(y_test,X_test_pca_prediction)"
   ]
  },
  {
   "cell_type": "code",
   "execution_count": 35,
   "id": "66c93368",
   "metadata": {},
   "outputs": [
    {
     "name": "stdout",
     "output_type": "stream",
     "text": [
      "accuracy on pca testing data =  0.9929577464788732\n"
     ]
    }
   ],
   "source": [
    "print('accuracy on pca testing data = ',test_data_accuracy_pca )"
   ]
  },
  {
   "cell_type": "code",
   "execution_count": null,
   "id": "9c9cb369",
   "metadata": {},
   "outputs": [],
   "source": []
  }
 ],
 "metadata": {
  "kernelspec": {
   "display_name": "Python 3",
   "language": "python",
   "name": "python3"
  },
  "language_info": {
   "codemirror_mode": {
    "name": "ipython",
    "version": 3
   },
   "file_extension": ".py",
   "mimetype": "text/x-python",
   "name": "python",
   "nbconvert_exporter": "python",
   "pygments_lexer": "ipython3",
   "version": "3.8.8"
  }
 },
 "nbformat": 4,
 "nbformat_minor": 5
}
