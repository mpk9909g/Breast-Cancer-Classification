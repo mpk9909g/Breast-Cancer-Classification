{
 "cells": [
  {
   "cell_type": "markdown",
   "id": "a67aee24",
   "metadata": {},
   "source": [
    "# Model Comparison"
   ]
  },
  {
   "cell_type": "code",
   "execution_count": null,
   "id": "6a63e14a",
   "metadata": {},
   "outputs": [],
   "source": [
    "from pickle import load\n",
    "from tensorflow.keras.models import load_model\n",
    "import pandas as pd\n",
    "from sklearn.metrics import accuracy_score\n",
    "from sklearn import metrics\n",
    "import numpy as np\n",
    "from sklearn.metrics import classification_report"
   ]
  },
  {
   "cell_type": "code",
   "execution_count": null,
   "id": "3bd46728",
   "metadata": {},
   "outputs": [],
   "source": [
    "# Dependencies for cross val code\n",
    "import matplotlib.pyplot as plt\n",
    "from sklearn import model_selection"
   ]
  },
  {
   "cell_type": "markdown",
   "id": "7785ac7f",
   "metadata": {},
   "source": [
    "## Load training sets"
   ]
  },
  {
   "cell_type": "code",
   "execution_count": null,
   "id": "2a216a86",
   "metadata": {},
   "outputs": [],
   "source": [
    "X_train_scaled = pd.read_csv(\"test_train_data/X_train_scaled.csv\")\n",
    "X_train_scaled_sk = pd.read_csv(\"test_train_data/X_train_scaled_sk.csv\")\n",
    "X_train_scaled_cs = pd.read_csv(\"test_train_data/X_train_scaled_cs.csv\")\n",
    "y_train_categorical = pd.read_csv(\"test_train_data/y_train_categorical.csv\")\n",
    "encoded_y_train = pd.read_csv(\"test_train_data/encoded_y_train.csv\")"
   ]
  },
  {
   "cell_type": "markdown",
   "id": "faf85e0c",
   "metadata": {},
   "source": [
    "## Load testing set"
   ]
  },
  {
   "cell_type": "code",
   "execution_count": null,
   "id": "3b061a0f",
   "metadata": {},
   "outputs": [],
   "source": [
    "X_test_scaled = pd.read_csv(\"test_train_data/X_test_scaled.csv\")\n",
    "X_test_scaled_sk = pd.read_csv(\"test_train_data/X_test_scaled_sk.csv\")\n",
    "X_test_scaled_cs = pd.read_csv(\"test_train_data/X_test_scaled_cs.csv\")\n",
    "encoded_y_test = pd.read_csv(\"test_train_data/encoded_y_test.csv\")\n",
    "y_test_categorical = pd.read_csv(\"test_train_data/y_test_categorical.csv\")"
   ]
  },
  {
   "cell_type": "markdown",
   "id": "c415940d",
   "metadata": {},
   "source": [
    "## Load all Models"
   ]
  },
  {
   "cell_type": "code",
   "execution_count": null,
   "id": "564936bd",
   "metadata": {},
   "outputs": [],
   "source": [
    "# knn = load(open('knn_trained.pkl', 'rb'))\n",
    "knn_all = load(open('pickles/knn_trained_all.pkl', 'rb'))\n",
    "knn_sk = load(open('pickles/knn_trained_sk.pkl', 'rb'))\n",
    "knn_cs = load(open('pickles/knn_trained_cs.pkl', 'rb'))"
   ]
  },
  {
   "cell_type": "code",
   "execution_count": null,
   "id": "fadc5ea7",
   "metadata": {},
   "outputs": [],
   "source": [
    "# log_reg = load(open('logistic_model_trained.pkl', 'rb'))\n",
    "log_reg_all = load(open('pickles/logistic_model_trained_all.pkl', 'rb'))\n",
    "log_reg_sk = load(open('pickles/logistic_model_trained_sk.pkl', 'rb'))\n",
    "log_reg_cs = load(open('pickles/logistic_model_trained_cs.pkl', 'rb'))"
   ]
  },
  {
   "cell_type": "code",
   "execution_count": null,
   "id": "611b70c8",
   "metadata": {},
   "outputs": [],
   "source": [
    "# deep_model = load_model(\"deep_model_trained.h5\")\n",
    "deep_model_all = load_model(\"pickles/deep_model_trained_all.h5\")\n",
    "deep_model_sk = load_model(\"pickles/deep_model_trained_sk.h5\")\n",
    "deep_model_cs = load_model(\"pickles/deep_model_trained_cs.h5\")"
   ]
  },
  {
   "cell_type": "code",
   "execution_count": null,
   "id": "c5f26f9a",
   "metadata": {},
   "outputs": [],
   "source": [
    "# random_forest = load(open('randomforest_trained.pkl', 'rb'))\n",
    "random_forest_all = load(open('pickles/randomforest_trained_all.pkl', 'rb'))\n",
    "random_forest_sk = load(open('pickles/randomforest_trained_sk.pkl', 'rb'))\n",
    "random_forest_cs = load(open('pickles/randomforest_trained_cs.pkl', 'rb'))"
   ]
  },
  {
   "cell_type": "code",
   "execution_count": null,
   "id": "448c68ce",
   "metadata": {},
   "outputs": [],
   "source": [
    "# svm = load(open('svm_model_trained.pkl', 'rb'))\n",
    "svm_all = load(open('pickles/svm_model_trained_all.pkl', 'rb'))\n",
    "svm_sk = load(open('pickles/svm_model_trained_sk.pkl', 'rb'))\n",
    "svm_cs = load(open('pickles/svm_model_trained_cs.pkl', 'rb'))"
   ]
  },
  {
   "cell_type": "markdown",
   "id": "c28c2ee0",
   "metadata": {},
   "source": [
    "## Evaluate all tuned Models against same test set"
   ]
  },
  {
   "cell_type": "markdown",
   "id": "38e02c48",
   "metadata": {},
   "source": [
    "### KNN"
   ]
  },
  {
   "cell_type": "code",
   "execution_count": null,
   "id": "ac796f21",
   "metadata": {},
   "outputs": [],
   "source": [
    "knn_accuracy_all = metrics.accuracy_score(encoded_y_test, knn_all.predict(X_test_scaled))\n",
    "knn_accuracy_all"
   ]
  },
  {
   "cell_type": "code",
   "execution_count": null,
   "id": "e4f9c229",
   "metadata": {},
   "outputs": [],
   "source": [
    "knn_accuracy_sk = metrics.accuracy_score(encoded_y_test, knn_sk.predict(X_test_scaled_sk))\n",
    "knn_accuracy_sk"
   ]
  },
  {
   "cell_type": "code",
   "execution_count": null,
   "id": "d34abc47",
   "metadata": {},
   "outputs": [],
   "source": [
    "knn_accuracy_cs = metrics.accuracy_score(encoded_y_test, knn_cs.predict(X_test_scaled_cs))\n",
    "knn_accuracy_cs"
   ]
  },
  {
   "cell_type": "markdown",
   "id": "74c43056",
   "metadata": {},
   "source": [
    "### Logistic Regression"
   ]
  },
  {
   "cell_type": "code",
   "execution_count": null,
   "id": "6d151120",
   "metadata": {},
   "outputs": [],
   "source": [
    "log_reg_accuracy_all = accuracy_score(encoded_y_test,log_reg_all.predict(X_test_scaled))\n",
    "log_reg_accuracy_all"
   ]
  },
  {
   "cell_type": "code",
   "execution_count": null,
   "id": "65531dda",
   "metadata": {},
   "outputs": [],
   "source": [
    "log_reg_accuracy_sk = accuracy_score(encoded_y_test,log_reg_sk.predict(X_test_scaled_sk))\n",
    "log_reg_accuracy_sk"
   ]
  },
  {
   "cell_type": "code",
   "execution_count": null,
   "id": "097dad8b",
   "metadata": {},
   "outputs": [],
   "source": [
    "log_reg_accuracy_cs = accuracy_score(encoded_y_test,log_reg_cs.predict(X_test_scaled_cs))\n",
    "log_reg_accuracy_cs"
   ]
  },
  {
   "cell_type": "markdown",
   "id": "0d587a23",
   "metadata": {},
   "source": [
    "### Neural Netwrok"
   ]
  },
  {
   "cell_type": "code",
   "execution_count": null,
   "id": "95536c7d",
   "metadata": {},
   "outputs": [],
   "source": [
    "deep_model_loss_all, deep_model_accuracy_all = deep_model_all.evaluate(X_test_scaled, y_test_categorical, verbose=2)"
   ]
  },
  {
   "cell_type": "code",
   "execution_count": null,
   "id": "12eb76cc",
   "metadata": {},
   "outputs": [],
   "source": [
    "deep_model_loss_sk, deep_model_accuracy_sk = deep_model_sk.evaluate(X_test_scaled_sk, y_test_categorical, verbose=2)"
   ]
  },
  {
   "cell_type": "code",
   "execution_count": null,
   "id": "cc025e6f",
   "metadata": {},
   "outputs": [],
   "source": [
    "deep_model_loss_cs, deep_model_accuracy_cs = deep_model_cs.evaluate(X_test_scaled_cs, y_test_categorical, verbose=2)"
   ]
  },
  {
   "cell_type": "markdown",
   "id": "bc91bb31",
   "metadata": {},
   "source": [
    "### Random Forest"
   ]
  },
  {
   "cell_type": "code",
   "execution_count": null,
   "id": "b68a297b",
   "metadata": {},
   "outputs": [],
   "source": [
    "random_forest_accuracy_all = random_forest_all.score(X_test_scaled.values, encoded_y_test.iloc[:,0])\n",
    "random_forest_accuracy_all"
   ]
  },
  {
   "cell_type": "code",
   "execution_count": null,
   "id": "3f676e75",
   "metadata": {},
   "outputs": [],
   "source": [
    "random_forest_accuracy_sk = random_forest_sk.score(X_test_scaled_sk.values, encoded_y_test.iloc[:,0])\n",
    "random_forest_accuracy_sk"
   ]
  },
  {
   "cell_type": "code",
   "execution_count": null,
   "id": "6c7b3137",
   "metadata": {},
   "outputs": [],
   "source": [
    "random_forest_accuracy_cs = random_forest_cs.score(X_test_scaled_cs.values, encoded_y_test.iloc[:,0])\n",
    "random_forest_accuracy_cs"
   ]
  },
  {
   "cell_type": "markdown",
   "id": "51f404ba",
   "metadata": {},
   "source": [
    "### SVM"
   ]
  },
  {
   "cell_type": "code",
   "execution_count": null,
   "id": "1e68184e",
   "metadata": {},
   "outputs": [],
   "source": [
    "svm_accuracy_all = metrics.accuracy_score(encoded_y_test, svm_all.predict(X_test_scaled))\n",
    "svm_accuracy_all"
   ]
  },
  {
   "cell_type": "code",
   "execution_count": null,
   "id": "d570e947",
   "metadata": {},
   "outputs": [],
   "source": [
    "svm_accuracy_sk = metrics.accuracy_score(encoded_y_test, svm_sk.predict(X_test_scaled_sk))\n",
    "svm_accuracy_sk"
   ]
  },
  {
   "cell_type": "code",
   "execution_count": null,
   "id": "d2c1afb8",
   "metadata": {},
   "outputs": [],
   "source": [
    "svm_accuracy_cs = metrics.accuracy_score(encoded_y_test, svm_cs.predict(X_test_scaled_cs))\n",
    "svm_accuracy_cs "
   ]
  },
  {
   "cell_type": "code",
   "execution_count": null,
   "id": "44c9f2b7",
   "metadata": {},
   "outputs": [],
   "source": [
    "label = ['KNN', 'LGR', 'NN', 'RF', 'SVM']"
   ]
  },
  {
   "cell_type": "code",
   "execution_count": null,
   "id": "612e5d70",
   "metadata": {},
   "outputs": [],
   "source": [
    "accurs_all = [knn_accuracy_all, log_reg_accuracy_all, deep_model_accuracy_all, \n",
    "              random_forest_accuracy_all, svm_accuracy_all]\n",
    "accurs_sk = [knn_accuracy_sk, log_reg_accuracy_sk, deep_model_accuracy_sk, \n",
    "             random_forest_accuracy_sk, svm_accuracy_sk]\n",
    "accurs_cs = [knn_accuracy_cs, log_reg_accuracy_cs, deep_model_accuracy_cs, \n",
    "             random_forest_accuracy_cs, svm_accuracy_cs]"
   ]
  },
  {
   "cell_type": "code",
   "execution_count": null,
   "id": "cbaa0087",
   "metadata": {},
   "outputs": [],
   "source": [
    "# accurs_cs"
   ]
  },
  {
   "cell_type": "code",
   "execution_count": null,
   "id": "72dfbf8c",
   "metadata": {},
   "outputs": [],
   "source": [
    "fig, ax = plt.subplots(figsize=(15, 5))\n",
    "ax.plot(label, accurs_all, label=\"All Features\", color='grey', marker='o', markersize=30, linestyle='None')\n",
    "ax.plot(label, accurs_sk, label=\"SelectKBest\", color='purple', marker='o', markersize=20, linestyle='None')\n",
    "ax.plot(label, accurs_cs, label=\"Correlation\", color='green', marker='o', markersize=10, linestyle='None')\n",
    "\n",
    "ax.legend(loc=(1,0))\n",
    "plt.title('Model Comparison using Accuracy and Feature Selection')\n",
    "plt.show()"
   ]
  },
  {
   "cell_type": "markdown",
   "id": "87ec67c3",
   "metadata": {},
   "source": [
    "## Comparison using KFold Cross Validation with All Features"
   ]
  },
  {
   "cell_type": "code",
   "execution_count": null,
   "id": "cb74bcde",
   "metadata": {},
   "outputs": [],
   "source": [
    "models = []\n",
    "models.append(('KNN', knn_all))\n",
    "models.append(('LR', log_reg_all))\n",
    "models.append(('RF', random_forest_all))\n",
    "models.append(('SVM', svm_all))"
   ]
  },
  {
   "cell_type": "code",
   "execution_count": null,
   "id": "e7ae4809",
   "metadata": {},
   "outputs": [],
   "source": [
    "models_sk = []\n",
    "models_sk.append(('KNN', knn_sk))\n",
    "models_sk.append(('LR', log_reg_sk))\n",
    "models_sk.append(('RF', random_forest_sk))\n",
    "models_sk.append(('SVM', svm_sk))"
   ]
  },
  {
   "cell_type": "code",
   "execution_count": null,
   "id": "650f6da2",
   "metadata": {},
   "outputs": [],
   "source": [
    "models_cs = []\n",
    "models_cs.append(('KNN', knn_cs))\n",
    "models_cs.append(('LR', log_reg_cs))\n",
    "models_cs.append(('RF', random_forest_cs))\n",
    "models_cs.append(('SVM', svm_cs))"
   ]
  },
  {
   "cell_type": "code",
   "execution_count": null,
   "id": "d0c692bf",
   "metadata": {},
   "outputs": [],
   "source": [
    "# encoded_y_train"
   ]
  },
  {
   "cell_type": "code",
   "execution_count": null,
   "id": "0b67d1a7",
   "metadata": {},
   "outputs": [],
   "source": [
    "encoded_y_train_array = encoded_y_train.values.reshape(-1)"
   ]
  },
  {
   "cell_type": "code",
   "execution_count": null,
   "id": "8fcd3715",
   "metadata": {},
   "outputs": [],
   "source": [
    "results = []\n",
    "names = []\n",
    "scoring = 'accuracy'\n",
    "for name, model in models:\n",
    "    kfold = model_selection.KFold(n_splits=10, random_state=None)\n",
    "    cv_results = model_selection.cross_val_score(model, X_train_scaled.values, encoded_y_train.iloc[:,0], cv=kfold, scoring=scoring)\n",
    "    results.append(cv_results)\n",
    "    names.append(name)\n",
    "    msg = \"%s: %f (%f)\" % (name, cv_results.mean(), cv_results.std())\n",
    "    print(msg)"
   ]
  },
  {
   "cell_type": "code",
   "execution_count": null,
   "id": "b3e364fe",
   "metadata": {},
   "outputs": [],
   "source": [
    "results_sk = []\n",
    "scoring = 'accuracy'\n",
    "for name, model in models_sk:\n",
    "    kfold = model_selection.KFold(n_splits=10, random_state=None)\n",
    "    cv_results = model_selection.cross_val_score(model, X_train_scaled_sk.values, encoded_y_train.iloc[:,0], cv=kfold, scoring=scoring)\n",
    "    results_sk.append(cv_results)\n",
    "    names.append(name)\n",
    "    msg = \"%s: %f (%f)\" % (name, cv_results.mean(), cv_results.std())\n",
    "    print(msg)"
   ]
  },
  {
   "cell_type": "code",
   "execution_count": null,
   "id": "2fae7732",
   "metadata": {},
   "outputs": [],
   "source": [
    "results_cs = []\n",
    "names = []\n",
    "scoring = 'accuracy'\n",
    "for name, model in models_cs:\n",
    "    kfold = model_selection.KFold(n_splits=10, random_state=None)\n",
    "    cv_results = model_selection.cross_val_score(model, X_train_scaled_cs.values, encoded_y_train.iloc[:,0], cv=kfold, scoring=scoring)\n",
    "    results_cs.append(cv_results)\n",
    "    names.append(name)\n",
    "    msg = \"%s: %f (%f)\" % (name, cv_results.mean(), cv_results.std())\n",
    "    print(msg)"
   ]
  },
  {
   "cell_type": "code",
   "execution_count": null,
   "id": "71b374bc",
   "metadata": {},
   "outputs": [],
   "source": []
  },
  {
   "cell_type": "code",
   "execution_count": null,
   "id": "04c12d85",
   "metadata": {},
   "outputs": [],
   "source": [
    "figure = plt.figure(figsize=(10,10))\n",
    "figure.suptitle('Model Comparison using Kfold Cross Validation with All Features')\n",
    "ax = figure.add_subplot(111)\n",
    "box = ax.boxplot(results,  \n",
    "                    vert=True,  \n",
    "                     patch_artist=True,\n",
    "                     labels=names) \n",
    "\n",
    "for b in box['boxes']:\n",
    "    b.set(facecolor='lightgrey')\n",
    "\n",
    "plt.show()"
   ]
  },
  {
   "cell_type": "code",
   "execution_count": null,
   "id": "c5494e3e",
   "metadata": {},
   "outputs": [],
   "source": [
    "figure = plt.figure(figsize=(10,10))\n",
    "figure.suptitle('Model Comparison using Kfold Cross Validation with SelectKBest')\n",
    "ax = figure.add_subplot(111)\n",
    "box = ax.boxplot(results_sk,  \n",
    "                    vert=True,  \n",
    "                     patch_artist=True,\n",
    "                     labels=names) \n",
    "\n",
    "for b in box['boxes']:\n",
    "    b.set(facecolor='lavender')\n",
    "\n",
    "plt.show()"
   ]
  },
  {
   "cell_type": "code",
   "execution_count": null,
   "id": "ddcf544e",
   "metadata": {},
   "outputs": [],
   "source": [
    "figure = plt.figure(figsize=(10,10))\n",
    "figure.suptitle('Model Comparison using Kfold Cross Validation with Correlation')\n",
    "ax = figure.add_subplot(111)\n",
    "box = ax.boxplot(results_cs,  \n",
    "                    vert=True,  \n",
    "                     patch_artist=True,\n",
    "                     labels=names) \n",
    "\n",
    "for b in box['boxes']:\n",
    "    b.set(facecolor='lightgreen')\n",
    "\n",
    "plt.show()"
   ]
  },
  {
   "cell_type": "markdown",
   "id": "38ceb564",
   "metadata": {},
   "source": [
    "## Confusion Matrix and Classification Reports"
   ]
  },
  {
   "cell_type": "code",
   "execution_count": null,
   "id": "ee001e05",
   "metadata": {},
   "outputs": [],
   "source": [
    "from sklearn.metrics import classification_report , confusion_matrix\n",
    "import seaborn as sns\n",
    "target_names = [\"BENIGN\", \"MALIGNANT\"]"
   ]
  },
  {
   "cell_type": "markdown",
   "id": "9effe5ed",
   "metadata": {},
   "source": [
    "### KNN Summary"
   ]
  },
  {
   "cell_type": "code",
   "execution_count": null,
   "id": "93addb2f",
   "metadata": {},
   "outputs": [],
   "source": [
    "all_y_predict = knn_all.predict(X_test_scaled)\n",
    "sk_y_predict = knn_sk.predict(X_test_scaled_sk)\n",
    "cs_y_predict = knn_cs.predict(X_test_scaled_cs)"
   ]
  },
  {
   "cell_type": "code",
   "execution_count": null,
   "id": "3672fa87",
   "metadata": {},
   "outputs": [],
   "source": [
    "all_y_predict"
   ]
  },
  {
   "cell_type": "code",
   "execution_count": null,
   "id": "6f2be972",
   "metadata": {},
   "outputs": [],
   "source": [
    "encoded_y_test"
   ]
  },
  {
   "cell_type": "code",
   "execution_count": null,
   "id": "b32b90d6",
   "metadata": {},
   "outputs": [],
   "source": [
    "report = classification_report(encoded_y_test,all_y_predict, target_names=target_names, output_dict=True)\n",
    "sns.heatmap(pd.DataFrame(report).iloc[:-1, :].T, annot=True, cmap='Greys')\n",
    "plt.title('KNN All Features Report')"
   ]
  },
  {
   "cell_type": "code",
   "execution_count": null,
   "id": "412572c3",
   "metadata": {},
   "outputs": [],
   "source": [
    "report = classification_report(encoded_y_test,sk_y_predict, target_names=target_names, output_dict=True)\n",
    "sns.heatmap(pd.DataFrame(report).iloc[:-1, :].T, annot=True, cmap='Purples')\n",
    "plt.title('KNN SK Features Report')"
   ]
  },
  {
   "cell_type": "code",
   "execution_count": null,
   "id": "c763a97b",
   "metadata": {},
   "outputs": [],
   "source": [
    "report = classification_report(encoded_y_test,cs_y_predict, target_names=target_names, output_dict=True)\n",
    "sns.heatmap(pd.DataFrame(report).iloc[:-1, :].T, annot=True, cmap='Greens')\n",
    "plt.title('KNN Correlation Features Report')"
   ]
  },
  {
   "cell_type": "code",
   "execution_count": null,
   "id": "4018dcce",
   "metadata": {},
   "outputs": [],
   "source": [
    "encoded_y_test"
   ]
  },
  {
   "cell_type": "code",
   "execution_count": null,
   "id": "1e7f9682",
   "metadata": {},
   "outputs": [],
   "source": [
    "all_y_predict"
   ]
  },
  {
   "cell_type": "code",
   "execution_count": null,
   "id": "98ac81c1",
   "metadata": {},
   "outputs": [],
   "source": [
    "cm_knn_all = confusion_matrix(encoded_y_test,all_y_predict)\n",
    "cm_knn_sk = confusion_matrix(encoded_y_test,sk_y_predict)\n",
    "cm_knn_cs = confusion_matrix(encoded_y_test,cs_y_predict)"
   ]
  },
  {
   "cell_type": "code",
   "execution_count": null,
   "id": "98edd226",
   "metadata": {},
   "outputs": [],
   "source": [
    "sns.heatmap(cm_knn_all ,annot=True, cmap=\"Greys\")\n",
    "plt.title('KNN Confusion Matrix with All Features')\n",
    "plt.xlabel('True Class')\n",
    "plt.ylabel('Predicted Class')"
   ]
  },
  {
   "cell_type": "code",
   "execution_count": null,
   "id": "e3661bdd",
   "metadata": {},
   "outputs": [],
   "source": [
    "sns.heatmap(cm_knn_sk ,annot=True, cmap=\"Purples\")\n",
    "plt.title('KNN Confusion Matrix with SelectKBest Features')\n",
    "plt.xlabel('True Class')\n",
    "plt.ylabel('Predicted Class')"
   ]
  },
  {
   "cell_type": "code",
   "execution_count": null,
   "id": "3daa854d",
   "metadata": {},
   "outputs": [],
   "source": [
    "sns.heatmap(cm_knn_cs ,annot=True, cmap=\"Greens\")\n",
    "plt.title('KNN Confusion Matrix with Correlation-based Selection')\n",
    "plt.xlabel('True Class')\n",
    "plt.ylabel('Predicted Class')"
   ]
  },
  {
   "cell_type": "code",
   "execution_count": null,
   "id": "a804d548",
   "metadata": {},
   "outputs": [],
   "source": []
  },
  {
   "cell_type": "markdown",
   "id": "63f23950",
   "metadata": {},
   "source": [
    "### Logistic Regression Summary"
   ]
  },
  {
   "cell_type": "code",
   "execution_count": null,
   "id": "4b257ebe",
   "metadata": {},
   "outputs": [],
   "source": [
    "all_y_predict = log_reg_all.predict(X_test_scaled)\n",
    "sk_y_predict = log_reg_sk.predict(X_test_scaled_sk)\n",
    "cs_y_predict = log_reg_cs.predict(X_test_scaled_cs)"
   ]
  },
  {
   "cell_type": "code",
   "execution_count": null,
   "id": "6e3c678a",
   "metadata": {
    "scrolled": false
   },
   "outputs": [],
   "source": [
    "report = classification_report(encoded_y_test,all_y_predict, target_names=target_names, output_dict=True)\n",
    "sns.heatmap(pd.DataFrame(report).iloc[:-1, :].T, annot=True, cmap='Greys')\n",
    "plt.title('LR All Features Report')"
   ]
  },
  {
   "cell_type": "code",
   "execution_count": null,
   "id": "82cfc726",
   "metadata": {},
   "outputs": [],
   "source": [
    "report = classification_report(encoded_y_test,sk_y_predict, target_names=target_names, output_dict=True)\n",
    "sns.heatmap(pd.DataFrame(report).iloc[:-1, :].T, annot=True, cmap='Purples')\n",
    "plt.title('LR SK Features Report')"
   ]
  },
  {
   "cell_type": "code",
   "execution_count": null,
   "id": "500dbb58",
   "metadata": {},
   "outputs": [],
   "source": [
    "report = classification_report(encoded_y_test,cs_y_predict, target_names=target_names, output_dict=True)\n",
    "sns.heatmap(pd.DataFrame(report).iloc[:-1, :].T, annot=True, cmap='Greens')\n",
    "plt.title('LR Correlation Features Report')"
   ]
  },
  {
   "cell_type": "code",
   "execution_count": null,
   "id": "4b73fbc8",
   "metadata": {},
   "outputs": [],
   "source": [
    "cm_lg_all = confusion_matrix(encoded_y_test,all_y_predict)\n",
    "cm_lg_sk = confusion_matrix(encoded_y_test,sk_y_predict)\n",
    "cm_lg_cs = confusion_matrix(encoded_y_test,cs_y_predict)"
   ]
  },
  {
   "cell_type": "code",
   "execution_count": null,
   "id": "14219943",
   "metadata": {},
   "outputs": [],
   "source": [
    "sns.heatmap(cm_lg_all ,annot=True, cmap='Greys')\n",
    "plt.title('Logistic Regression Confusion Matrix with All Features')\n",
    "plt.xlabel('True Class')\n",
    "plt.ylabel('Predicted Class')"
   ]
  },
  {
   "cell_type": "code",
   "execution_count": null,
   "id": "c18aad41",
   "metadata": {},
   "outputs": [],
   "source": [
    "sns.heatmap(cm_lg_sk ,annot=True, cmap='Purples')\n",
    "plt.title('Logistic Regression Confusion Matrix with SelectKBest Features')\n",
    "plt.xlabel('True Class')\n",
    "plt.ylabel('Predicted Class')"
   ]
  },
  {
   "cell_type": "code",
   "execution_count": null,
   "id": "ca6ea1e4",
   "metadata": {},
   "outputs": [],
   "source": [
    "sns.heatmap(cm_lg_cs ,annot=True, cmap='Greens')\n",
    "plt.title('Logistic Regression Confusion Matrix with Correlation-based Selection')\n",
    "plt.xlabel('True Class')\n",
    "plt.ylabel('Predicted Class')"
   ]
  },
  {
   "cell_type": "markdown",
   "id": "a48b8047",
   "metadata": {},
   "source": [
    "### Neural Network Summary"
   ]
  },
  {
   "cell_type": "code",
   "execution_count": null,
   "id": "8e4ffdc2",
   "metadata": {},
   "outputs": [],
   "source": [
    "all_y_predict = deep_model_all.predict(X_test_scaled)\n",
    "sk_y_predict = deep_model_sk.predict(X_test_scaled_sk)\n",
    "cs_y_predict = deep_model_cs.predict(X_test_scaled_cs)"
   ]
  },
  {
   "cell_type": "code",
   "execution_count": null,
   "id": "1d5c3a5c",
   "metadata": {},
   "outputs": [],
   "source": [
    "all_y_predict_new = []\n",
    "sk_y_predict_new = []\n",
    "cs_y_predict_new = []\n",
    "for list in all_y_predict:\n",
    "    all_y_predict_new.append(round(list[1],0))\n",
    "for list in sk_y_predict:\n",
    "    sk_y_predict_new.append(round(list[1],0))\n",
    "for list in cs_y_predict:\n",
    "    cs_y_predict_new.append(round(list[1],0))"
   ]
  },
  {
   "cell_type": "code",
   "execution_count": null,
   "id": "7cda309b",
   "metadata": {
    "scrolled": false
   },
   "outputs": [],
   "source": [
    "#print(classification_report(y_test_categorical.iloc[:,].values,all_y_predict_new))\n",
    "\n",
    "report = classification_report(encoded_y_test,all_y_predict_new, target_names=target_names, output_dict=True)\n",
    "sns.heatmap(pd.DataFrame(report).iloc[:-1, :].T, annot=True, cmap='Greys')\n",
    "plt.title('Neural Network All Features Report')"
   ]
  },
  {
   "cell_type": "code",
   "execution_count": null,
   "id": "d05c30d0",
   "metadata": {},
   "outputs": [],
   "source": [
    "#print(classification_report(y_test_categorical.iloc[:,0].values,sk_y_predict_new))\n",
    "report = classification_report(encoded_y_test,sk_y_predict_new, target_names=target_names, output_dict=True)\n",
    "sns.heatmap(pd.DataFrame(report).iloc[:-1, :].T, annot=True, cmap='Purples')\n",
    "plt.title('Neural Network SK Features Report')"
   ]
  },
  {
   "cell_type": "code",
   "execution_count": null,
   "id": "e223ffe1",
   "metadata": {},
   "outputs": [],
   "source": [
    "#print(classification_report(encoded_y_test,cs_y_predict_new))\n",
    "report = classification_report(encoded_y_test,cs_y_predict_new, target_names=target_names, output_dict=True)\n",
    "sns.heatmap(pd.DataFrame(report).iloc[:-1, :].T, annot=True, cmap='Greens')\n",
    "plt.title('Neural Network Correlation Features Report')"
   ]
  },
  {
   "cell_type": "code",
   "execution_count": null,
   "id": "0a692a9f",
   "metadata": {},
   "outputs": [],
   "source": [
    "cm_nn_all = confusion_matrix(encoded_y_test,all_y_predict_new)\n",
    "cm_nn_sk = confusion_matrix(encoded_y_test,sk_y_predict_new)\n",
    "cm_nn_cs = confusion_matrix(encoded_y_test,cs_y_predict_new)"
   ]
  },
  {
   "cell_type": "code",
   "execution_count": null,
   "id": "0679f555",
   "metadata": {},
   "outputs": [],
   "source": [
    "sns.heatmap(cm_nn_all ,annot=True, cmap='Greys')\n",
    "plt.title('Neural Network Confusion Matrix with All Features')\n",
    "plt.xlabel('True Class')\n",
    "plt.ylabel('Predicted Class')"
   ]
  },
  {
   "cell_type": "code",
   "execution_count": null,
   "id": "94a868b2",
   "metadata": {},
   "outputs": [],
   "source": [
    "sns.heatmap(cm_nn_sk ,annot=True, cmap='Purples')\n",
    "plt.title('Neural Network Confusion Matrix with SelectKBest Features')\n",
    "plt.xlabel('True Class')\n",
    "plt.ylabel('Predicted Class')"
   ]
  },
  {
   "cell_type": "code",
   "execution_count": null,
   "id": "ebb23297",
   "metadata": {},
   "outputs": [],
   "source": [
    "sns.heatmap(cm_nn_cs ,annot=True, cmap='Greens')\n",
    "plt.title('Neural Network Confusion Matrix with Correlation-based Selection')\n",
    "plt.xlabel('True Class')\n",
    "plt.ylabel('Predicted Class')"
   ]
  },
  {
   "cell_type": "markdown",
   "id": "85e75ea4",
   "metadata": {},
   "source": [
    "### Random Forest Summary"
   ]
  },
  {
   "cell_type": "code",
   "execution_count": null,
   "id": "234dd46f",
   "metadata": {},
   "outputs": [],
   "source": [
    "all_y_predict = random_forest_all.predict(X_test_scaled)\n",
    "sk_y_predict = random_forest_sk.predict(X_test_scaled_sk)\n",
    "cs_y_predict = random_forest_cs.predict(X_test_scaled_cs)"
   ]
  },
  {
   "cell_type": "code",
   "execution_count": null,
   "id": "611c45ae",
   "metadata": {
    "scrolled": false
   },
   "outputs": [],
   "source": [
    "report = classification_report(encoded_y_test,all_y_predict, target_names=target_names, output_dict=True)\n",
    "sns.heatmap(pd.DataFrame(report).iloc[:-1, :].T, annot=True, cmap='Greys')\n",
    "plt.title('RF All Features Report')"
   ]
  },
  {
   "cell_type": "code",
   "execution_count": null,
   "id": "8b2db95a",
   "metadata": {},
   "outputs": [],
   "source": [
    "report = classification_report(encoded_y_test,sk_y_predict, target_names=target_names, output_dict=True)\n",
    "sns.heatmap(pd.DataFrame(report).iloc[:-1, :].T, annot=True, cmap='Purples')\n",
    "plt.title('RF SK Features Report')"
   ]
  },
  {
   "cell_type": "code",
   "execution_count": null,
   "id": "f136cf6a",
   "metadata": {},
   "outputs": [],
   "source": [
    "report = classification_report(encoded_y_test,cs_y_predict, target_names=target_names, output_dict=True)\n",
    "sns.heatmap(pd.DataFrame(report).iloc[:-1, :].T, annot=True, cmap='Greens')\n",
    "plt.title('RF Correlation Features Report')"
   ]
  },
  {
   "cell_type": "code",
   "execution_count": null,
   "id": "c7b41d66",
   "metadata": {},
   "outputs": [],
   "source": [
    "cm_rf_all = confusion_matrix(encoded_y_test,all_y_predict)\n",
    "cm_rf_sk = confusion_matrix(encoded_y_test,sk_y_predict)\n",
    "cm_rf_cs = confusion_matrix(encoded_y_test,cs_y_predict)"
   ]
  },
  {
   "cell_type": "code",
   "execution_count": null,
   "id": "6a3b3905",
   "metadata": {},
   "outputs": [],
   "source": [
    "sns.heatmap(cm_rf_all ,annot=True, cmap=\"Greys\")\n",
    "plt.title('Random Forest Confusion Matrix with All Features')\n",
    "plt.xlabel('True Class')\n",
    "plt.ylabel('Predicted Class')"
   ]
  },
  {
   "cell_type": "code",
   "execution_count": null,
   "id": "c44ab720",
   "metadata": {},
   "outputs": [],
   "source": [
    "sns.heatmap(cm_rf_sk ,annot=True, cmap=\"Purples\")\n",
    "plt.title('Random Forest Confusion Matrix with SelectKBest Features')\n",
    "plt.xlabel('True Class')\n",
    "plt.ylabel('Predicted Class')"
   ]
  },
  {
   "cell_type": "code",
   "execution_count": null,
   "id": "c918430c",
   "metadata": {},
   "outputs": [],
   "source": [
    "sns.heatmap(cm_rf_cs ,annot=True, cmap=\"Greens\")\n",
    "plt.title('Random Forest Confusion Matrix Correlation-based Selection')\n",
    "plt.xlabel('True Class')\n",
    "plt.ylabel('Predicted Class')"
   ]
  },
  {
   "cell_type": "markdown",
   "id": "af0f0a76",
   "metadata": {},
   "source": [
    "### SVM Summary"
   ]
  },
  {
   "cell_type": "code",
   "execution_count": null,
   "id": "bbe128a0",
   "metadata": {},
   "outputs": [],
   "source": [
    "all_y_predict = svm_all.predict(X_test_scaled)\n",
    "sk_y_predict = svm_sk.predict(X_test_scaled_sk)\n",
    "cs_y_predict = svm_cs.predict(X_test_scaled_cs)"
   ]
  },
  {
   "cell_type": "code",
   "execution_count": null,
   "id": "a7b2fca7",
   "metadata": {
    "scrolled": false
   },
   "outputs": [],
   "source": [
    "report = classification_report(encoded_y_test,all_y_predict, target_names=target_names, output_dict=True)\n",
    "sns.heatmap(pd.DataFrame(report).iloc[:-1, :].T, annot=True, cmap='Greys')\n",
    "plt.title('SVM All Features Report')"
   ]
  },
  {
   "cell_type": "code",
   "execution_count": null,
   "id": "cd44cab1",
   "metadata": {},
   "outputs": [],
   "source": [
    "report = classification_report(encoded_y_test,sk_y_predict, target_names=target_names, output_dict=True)\n",
    "sns.heatmap(pd.DataFrame(report).iloc[:-1, :].T, annot=True, cmap='Purples')\n",
    "plt.title('SVM SK Features Report')"
   ]
  },
  {
   "cell_type": "code",
   "execution_count": null,
   "id": "f1a0600d",
   "metadata": {},
   "outputs": [],
   "source": [
    "report = classification_report(encoded_y_test,cs_y_predict, target_names=target_names, output_dict=True)\n",
    "sns.heatmap(pd.DataFrame(report).iloc[:-1, :].T, annot=True, cmap='Greens')\n",
    "plt.title('SVM Correlation Features Report')"
   ]
  },
  {
   "cell_type": "code",
   "execution_count": null,
   "id": "f4e7c948",
   "metadata": {},
   "outputs": [],
   "source": [
    "cm_svm_all = confusion_matrix(encoded_y_test,all_y_predict)\n",
    "cm_svm_sk = confusion_matrix(encoded_y_test,sk_y_predict)\n",
    "cm_svm_cs = confusion_matrix(encoded_y_test,cs_y_predict)"
   ]
  },
  {
   "cell_type": "code",
   "execution_count": null,
   "id": "a952bf61",
   "metadata": {},
   "outputs": [],
   "source": [
    "sns.heatmap(cm_svm_all ,annot=True, cmap=\"Greys\")\n",
    "plt.title('SVM Confusion Matrix with All Features')\n",
    "plt.xlabel('True Class')\n",
    "plt.ylabel('Predicted Class')"
   ]
  },
  {
   "cell_type": "code",
   "execution_count": null,
   "id": "a0b4a877",
   "metadata": {},
   "outputs": [],
   "source": [
    "sns.heatmap(cm_svm_sk ,annot=True, cmap=\"Purples\")\n",
    "plt.title('SVM Confusion Matrix with SelectKBest Features')\n",
    "plt.xlabel('True Class')\n",
    "plt.ylabel('Predicted Class')"
   ]
  },
  {
   "cell_type": "code",
   "execution_count": null,
   "id": "ef0b3d12",
   "metadata": {},
   "outputs": [],
   "source": [
    "sns.heatmap(cm_svm_cs ,annot=True, cmap=\"Greens\")\n",
    "plt.title('SVM Confusion Matrix with Correlation-based Selection')\n",
    "plt.xlabel('True Class')\n",
    "plt.ylabel('Predicted Class')"
   ]
  },
  {
   "cell_type": "code",
   "execution_count": null,
   "id": "633df561",
   "metadata": {},
   "outputs": [],
   "source": []
  },
  {
   "cell_type": "code",
   "execution_count": null,
   "id": "6473ba65",
   "metadata": {},
   "outputs": [],
   "source": []
  }
 ],
 "metadata": {
  "kernelspec": {
   "display_name": "Python 3",
   "language": "python",
   "name": "python3"
  },
  "language_info": {
   "codemirror_mode": {
    "name": "ipython",
    "version": 3
   },
   "file_extension": ".py",
   "mimetype": "text/x-python",
   "name": "python",
   "nbconvert_exporter": "python",
   "pygments_lexer": "ipython3",
   "version": "3.8.8"
  }
 },
 "nbformat": 4,
 "nbformat_minor": 5
}
