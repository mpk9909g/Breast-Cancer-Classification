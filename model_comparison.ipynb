{
 "cells": [
  {
   "cell_type": "markdown",
   "id": "a67aee24",
   "metadata": {},
   "source": [
    "# Model Comparison"
   ]
  },
  {
   "cell_type": "code",
   "execution_count": null,
   "id": "6a63e14a",
   "metadata": {},
   "outputs": [],
   "source": [
    "from pickle import load\n",
    "from tensorflow.keras.models import load_model\n",
    "import pandas as pd\n",
    "from sklearn.metrics import accuracy_score\n",
    "from sklearn import metrics\n",
    "import numpy as np\n",
    "from sklearn.metrics import classification_report"
   ]
  },
  {
   "cell_type": "code",
   "execution_count": null,
   "id": "3bd46728",
   "metadata": {},
   "outputs": [],
   "source": [
    "# Dependencies for cross val code\n",
    "import matplotlib.pyplot as plt\n",
    "from sklearn import model_selection\n",
    "plt.style.use('ggplot')"
   ]
  },
  {
   "cell_type": "markdown",
   "id": "7785ac7f",
   "metadata": {},
   "source": [
    "## Load training sets"
   ]
  },
  {
   "cell_type": "code",
   "execution_count": null,
   "id": "2a216a86",
   "metadata": {},
   "outputs": [],
   "source": [
    "X_train_scaled = pd.read_csv(\"test_train_data/X_train_scaled.csv\")\n",
    "X_train_scaled_sk = pd.read_csv(\"test_train_data/X_train_scaled_sk.csv\")\n",
    "X_train_scaled_cs = pd.read_csv(\"test_train_data/X_train_scaled_cs.csv\")\n",
    "y_train_categorical = pd.read_csv(\"test_train_data/y_train_categorical.csv\")\n",
    "encoded_y_train = pd.read_csv(\"test_train_data/encoded_y_train.csv\")"
   ]
  },
  {
   "cell_type": "markdown",
   "id": "faf85e0c",
   "metadata": {},
   "source": [
    "## Load testing set"
   ]
  },
  {
   "cell_type": "code",
   "execution_count": null,
   "id": "3b061a0f",
   "metadata": {},
   "outputs": [],
   "source": [
    "X_test_scaled = pd.read_csv(\"test_train_data/X_test_scaled.csv\")\n",
    "X_test_scaled_sk = pd.read_csv(\"test_train_data/X_test_scaled_sk.csv\")\n",
    "X_test_scaled_cs = pd.read_csv(\"test_train_data/X_test_scaled_cs.csv\")\n",
    "encoded_y_test = pd.read_csv(\"test_train_data/encoded_y_test.csv\")\n",
    "y_test_categorical = pd.read_csv(\"test_train_data/y_test_categorical.csv\")"
   ]
  },
  {
   "cell_type": "markdown",
   "id": "c415940d",
   "metadata": {},
   "source": [
    "## Load all Models"
   ]
  },
  {
   "cell_type": "code",
   "execution_count": null,
   "id": "564936bd",
   "metadata": {},
   "outputs": [],
   "source": [
    "# knn = load(open('knn_trained.pkl', 'rb'))\n",
    "knn_all = load(open('knn_trained_all.pkl', 'rb'))\n",
    "knn_sk = load(open('knn_trained_sk.pkl', 'rb'))\n",
    "knn_cs = load(open('knn_trained_cs.pkl', 'rb'))"
   ]
  },
  {
   "cell_type": "code",
   "execution_count": null,
   "id": "fadc5ea7",
   "metadata": {},
   "outputs": [],
   "source": [
    "# log_reg = load(open('logistic_model_trained.pkl', 'rb'))\n",
    "log_reg_all = load(open('logistic_model_trained_all.pkl', 'rb'))\n",
    "log_reg_sk = load(open('logistic_model_trained_sk.pkl', 'rb'))\n",
    "log_reg_cs = load(open('logistic_model_trained_cs.pkl', 'rb'))"
   ]
  },
  {
   "cell_type": "code",
   "execution_count": null,
   "id": "611b70c8",
   "metadata": {},
   "outputs": [],
   "source": [
    "# deep_model = load_model(\"deep_model_trained.h5\")\n",
    "deep_model_all = load_model(\"deep_model_trained_all.h5\")\n",
    "deep_model_sk = load_model(\"deep_model_trained_sk.h5\")\n",
    "deep_model_cs = load_model(\"deep_model_trained_cs.h5\")"
   ]
  },
  {
   "cell_type": "code",
   "execution_count": null,
   "id": "c5f26f9a",
   "metadata": {},
   "outputs": [],
   "source": [
    "# random_forest = load(open('randomforest_trained.pkl', 'rb'))\n",
    "random_forest_all = load(open('randomforest_trained_all.pkl', 'rb'))\n",
    "random_forest_sk = load(open('randomforest_trained_sk.pkl', 'rb'))\n",
    "random_forest_cs = load(open('randomforest_trained_cs.pkl', 'rb'))"
   ]
  },
  {
   "cell_type": "code",
   "execution_count": null,
   "id": "448c68ce",
   "metadata": {},
   "outputs": [],
   "source": [
    "# svm = load(open('svm_model_trained.pkl', 'rb'))\n",
    "svm_all = load(open('svm_model_trained_all.pkl', 'rb'))\n",
    "svm_sk = load(open('svm_model_trained_sk.pkl', 'rb'))\n",
    "svm_cs = load(open('svm_model_trained_cs.pkl', 'rb'))"
   ]
  },
  {
   "cell_type": "markdown",
   "id": "c28c2ee0",
   "metadata": {},
   "source": [
    "## Evaluate all tuned Models against same test set"
   ]
  },
  {
   "cell_type": "markdown",
   "id": "38e02c48",
   "metadata": {},
   "source": [
    "### KNN"
   ]
  },
  {
   "cell_type": "code",
   "execution_count": null,
   "id": "ac796f21",
   "metadata": {},
   "outputs": [],
   "source": [
    "knn_accuracy_all = metrics.accuracy_score(encoded_y_test, knn_all.predict(X_test_scaled))\n",
    "knn_accuracy_all"
   ]
  },
  {
   "cell_type": "code",
   "execution_count": null,
   "id": "e4f9c229",
   "metadata": {},
   "outputs": [],
   "source": [
    "knn_accuracy_sk = metrics.accuracy_score(encoded_y_test, knn_sk.predict(X_test_scaled_sk))\n",
    "knn_accuracy_sk"
   ]
  },
  {
   "cell_type": "code",
   "execution_count": null,
   "id": "d34abc47",
   "metadata": {},
   "outputs": [],
   "source": [
    "knn_accuracy_cs = metrics.accuracy_score(encoded_y_test, knn_cs.predict(X_test_scaled_cs))\n",
    "knn_accuracy_cs"
   ]
  },
  {
   "cell_type": "markdown",
   "id": "74c43056",
   "metadata": {},
   "source": [
    "### Logistic Regression"
   ]
  },
  {
   "cell_type": "code",
   "execution_count": null,
   "id": "6d151120",
   "metadata": {},
   "outputs": [],
   "source": [
    "log_reg_accuracy_all = accuracy_score(encoded_y_test,log_reg_all.predict(X_test_scaled))\n",
    "log_reg_accuracy_all"
   ]
  },
  {
   "cell_type": "code",
   "execution_count": null,
   "id": "65531dda",
   "metadata": {},
   "outputs": [],
   "source": [
    "log_reg_accuracy_sk = accuracy_score(encoded_y_test,log_reg_sk.predict(X_test_scaled_sk))\n",
    "log_reg_accuracy_sk"
   ]
  },
  {
   "cell_type": "code",
   "execution_count": null,
   "id": "097dad8b",
   "metadata": {},
   "outputs": [],
   "source": [
    "log_reg_accuracy_cs = accuracy_score(encoded_y_test,log_reg_cs.predict(X_test_scaled_cs))\n",
    "log_reg_accuracy_cs"
   ]
  },
  {
   "cell_type": "markdown",
   "id": "0d587a23",
   "metadata": {},
   "source": [
    "### Neural Netwrok"
   ]
  },
  {
   "cell_type": "code",
   "execution_count": null,
   "id": "95536c7d",
   "metadata": {},
   "outputs": [],
   "source": [
    "deep_model_loss_all, deep_model_accuracy_all = deep_model_all.evaluate(X_test_scaled, y_test_categorical, verbose=2)"
   ]
  },
  {
   "cell_type": "code",
   "execution_count": null,
   "id": "12eb76cc",
   "metadata": {},
   "outputs": [],
   "source": [
    "deep_model_loss_sk, deep_model_accuracy_sk = deep_model_sk.evaluate(X_test_scaled_sk, y_test_categorical, verbose=2)"
   ]
  },
  {
   "cell_type": "code",
   "execution_count": null,
   "id": "cc025e6f",
   "metadata": {},
   "outputs": [],
   "source": [
    "deep_model_loss_cs, deep_model_accuracy_cs = deep_model_cs.evaluate(X_test_scaled_cs, y_test_categorical, verbose=2)"
   ]
  },
  {
   "cell_type": "markdown",
   "id": "bc91bb31",
   "metadata": {},
   "source": [
    "### Random Forest"
   ]
  },
  {
   "cell_type": "code",
   "execution_count": null,
   "id": "b68a297b",
   "metadata": {},
   "outputs": [],
   "source": [
    "random_forest_accuracy_all = random_forest_all.score(X_test_scaled, y_test_categorical)\n",
    "random_forest_accuracy_all"
   ]
  },
  {
   "cell_type": "code",
   "execution_count": null,
   "id": "3f676e75",
   "metadata": {},
   "outputs": [],
   "source": [
    "random_forest_accuracy_sk = random_forest_sk.score(X_test_scaled_sk, y_test_categorical)\n",
    "random_forest_accuracy_sk"
   ]
  },
  {
   "cell_type": "code",
   "execution_count": null,
   "id": "6c7b3137",
   "metadata": {},
   "outputs": [],
   "source": [
    "random_forest_accuracy_cs = random_forest_cs.score(X_test_scaled_cs, y_test_categorical)\n",
    "random_forest_accuracy_cs"
   ]
  },
  {
   "cell_type": "markdown",
   "id": "51f404ba",
   "metadata": {},
   "source": [
    "### SVM"
   ]
  },
  {
   "cell_type": "code",
   "execution_count": null,
   "id": "1e68184e",
   "metadata": {},
   "outputs": [],
   "source": [
    "svm_accuracy_all = metrics.accuracy_score(encoded_y_test, svm_all.predict(X_test_scaled))\n",
    "svm_accuracy_all"
   ]
  },
  {
   "cell_type": "code",
   "execution_count": null,
   "id": "d570e947",
   "metadata": {},
   "outputs": [],
   "source": [
    "svm_accuracy_sk = metrics.accuracy_score(encoded_y_test, svm_sk.predict(X_test_scaled_sk))\n",
    "svm_accuracy_sk"
   ]
  },
  {
   "cell_type": "code",
   "execution_count": null,
   "id": "d2c1afb8",
   "metadata": {},
   "outputs": [],
   "source": [
    "svm_accuracy_cs = metrics.accuracy_score(encoded_y_test, svm_cs.predict(X_test_scaled_cs))\n",
    "svm_accuracy_cs "
   ]
  },
  {
   "cell_type": "code",
   "execution_count": null,
   "id": "44c9f2b7",
   "metadata": {},
   "outputs": [],
   "source": [
    "model_labels = ['knn_accuracy_all', 'log_reg_accuracy_all', 'deep_model_accuracy_all', 'random_forest_accuracy_all', 'svm_accuracy_all',\n",
    "               'knn_accuracy_sk', 'log_reg_accuracy_sk', 'deep_model_accuracy_sk', 'random_forest_accuracy_sk', 'svm_accuracy_sk',\n",
    "               'knn_accuracy_cs', 'log_reg_accuracy_cs', 'deep_model_accuracy_cs', 'random_forest_accuracy_cs', 'svm_accuracy_cs']\n"
   ]
  },
  {
   "cell_type": "code",
   "execution_count": null,
   "id": "2a5a4dff",
   "metadata": {},
   "outputs": [],
   "source": [
    "model_accuracy = [knn_accuracy_all, log_reg_accuracy_all, deep_model_accuracy_all, random_forest_accuracy_all, svm_accuracy_all,\n",
    " knn_accuracy_sk, log_reg_accuracy_sk, deep_model_accuracy_sk, random_forest_accuracy_sk, svm_accuracy_sk,\n",
    " knn_accuracy_cs, log_reg_accuracy_cs, deep_model_accuracy_cs, random_forest_accuracy_cs, svm_accuracy_cs\n",
    "]"
   ]
  },
  {
   "cell_type": "code",
   "execution_count": null,
   "id": "72dfbf8c",
   "metadata": {},
   "outputs": [],
   "source": [
    "\n",
    "x_pos = np.arange(len(model_labels))\n",
    "\n",
    "# Create bars\n",
    "plt.bar(x_pos, model_accuracy, color=(0.2, 0.4, 0.6, 0.6))\n",
    "\n",
    "# Create names on the x-axis\n",
    "plt.xticks(x_pos, model_labels)\n",
    "\n",
    "# Show graph\n",
    "plt.show()"
   ]
  },
  {
   "cell_type": "markdown",
   "id": "87ec67c3",
   "metadata": {},
   "source": [
    "## Comparison using KFold Cross Validation with All Features"
   ]
  },
  {
   "cell_type": "code",
   "execution_count": null,
   "id": "cb74bcde",
   "metadata": {},
   "outputs": [],
   "source": [
    "models = []\n",
    "models.append(('KNN', knn_all))\n",
    "models.append(('LR', log_reg_all))\n",
    "# models.append(('RF', random_forest_all))\n",
    "models.append(('SVM', svm_all))"
   ]
  },
  {
   "cell_type": "code",
   "execution_count": null,
   "id": "3cae07c5",
   "metadata": {},
   "outputs": [],
   "source": [
    "models"
   ]
  },
  {
   "cell_type": "code",
   "execution_count": null,
   "id": "d0c692bf",
   "metadata": {},
   "outputs": [],
   "source": [
    "encoded_y_train"
   ]
  },
  {
   "cell_type": "code",
   "execution_count": null,
   "id": "0b67d1a7",
   "metadata": {},
   "outputs": [],
   "source": [
    "encoded_y_train_array = encoded_y_train.values.reshape(-1)"
   ]
  },
  {
   "cell_type": "code",
   "execution_count": null,
   "id": "8fcd3715",
   "metadata": {},
   "outputs": [],
   "source": [
    "results = []\n",
    "names = []\n",
    "scoring = 'accuracy'\n",
    "for name, model in models:\n",
    "    print(model)\n",
    "    kfold = model_selection.KFold(n_splits=10, random_state=None)\n",
    "    \n",
    "    if (model in (random_forest_all)):\n",
    "        print(f'{model} - Model found')\n",
    "        cv_results = model_selection.cross_val_score(model, X_train_scaled, y_train_categorical, cv=kfold, scoring=scoring)\n",
    "    \n",
    "    cv_results = model_selection.cross_val_score(model, X_train_scaled, encoded_y_train, cv=kfold, scoring=scoring)\n",
    "    results.append(cv_results)\n",
    "    names.append(name)\n",
    "    msg = \"%s: %f (%f)\" % (name, cv_results.mean(), cv_results.std())\n",
    "    print(msg)"
   ]
  },
  {
   "cell_type": "code",
   "execution_count": null,
   "id": "04c12d85",
   "metadata": {},
   "outputs": [],
   "source": [
    "figure = plt.figure(figsize=(10,10))\n",
    "figure.suptitle('Model Comparison using Kfold Cross Validation')\n",
    "ax = figure.add_subplot(111)\n",
    "box = ax.boxplot(results,\n",
    "                     notch=True,  \n",
    "                     vert=True,  \n",
    "                     patch_artist=True,\n",
    "                     labels=names) \n",
    "\n",
    "colors = ['lightyellow', 'lightblue', 'lightgreen']\n",
    "for patch, color in zip(box['boxes'], colors):\n",
    "    patch.set_facecolor(color)\n",
    "\n",
    "plt.show()"
   ]
  },
  {
   "cell_type": "code",
   "execution_count": null,
   "id": "972f9380",
   "metadata": {},
   "outputs": [],
   "source": []
  }
 ],
 "metadata": {
  "kernelspec": {
   "display_name": "Python 3",
   "language": "python",
   "name": "python3"
  },
  "language_info": {
   "codemirror_mode": {
    "name": "ipython",
    "version": 3
   },
   "file_extension": ".py",
   "mimetype": "text/x-python",
   "name": "python",
   "nbconvert_exporter": "python",
   "pygments_lexer": "ipython3",
   "version": "3.8.8"
  }
 },
 "nbformat": 4,
 "nbformat_minor": 5
}
