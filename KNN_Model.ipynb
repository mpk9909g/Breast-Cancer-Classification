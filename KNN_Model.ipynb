{
 "cells": [
  {
   "cell_type": "code",
   "execution_count": null,
   "id": "34972ce4",
   "metadata": {},
   "outputs": [],
   "source": [
    "import pandas as pd\n",
    "import numpy as np\n",
    "from numpy import loadtxt\n",
    "from sklearn.metrics import accuracy_score\n",
    "import seaborn as sns\n",
    "from pickle import dump"
   ]
  },
  {
   "cell_type": "code",
   "execution_count": null,
   "id": "1bebd5b3",
   "metadata": {},
   "outputs": [],
   "source": [
    "X_train = pd. read_csv(\"test_train_data/X_train_scaled.csv\")\n",
    "X_train.shape"
   ]
  },
  {
   "cell_type": "code",
   "execution_count": null,
   "id": "c418aa81",
   "metadata": {},
   "outputs": [],
   "source": [
    "X_test = pd. read_csv(\"test_train_data/X_test_scaled.csv\")\n",
    "X_test.shape"
   ]
  },
  {
   "cell_type": "code",
   "execution_count": null,
   "id": "507cf8f6",
   "metadata": {},
   "outputs": [],
   "source": [
    "y_train = pd. read_csv(\"test_train_data/encoded_y_train.csv\")\n",
    "y_train = y_train.iloc[:, 0]\n",
    "y_train.shape"
   ]
  },
  {
   "cell_type": "code",
   "execution_count": null,
   "id": "00420f9b",
   "metadata": {},
   "outputs": [],
   "source": [
    "y_test = pd. read_csv(\"test_train_data/encoded_y_test.csv\")\n",
    "y_test = y_test.iloc[:, 0]\n",
    "y_test.shape"
   ]
  },
  {
   "cell_type": "code",
   "execution_count": null,
   "id": "ac982065",
   "metadata": {},
   "outputs": [],
   "source": [
    "from sklearn.neighbors import KNeighborsClassifier\n",
    "from sklearn.metrics import classification_report , confusion_matrix"
   ]
  },
  {
   "cell_type": "code",
   "execution_count": null,
   "id": "dcf5def0",
   "metadata": {},
   "outputs": [],
   "source": [
    "knn_model = KNeighborsClassifier(n_neighbors = 5, metric = 'minkowski', p = 2)\n",
    "knn_model.fit(X_train, y_train)"
   ]
  },
  {
   "cell_type": "code",
   "execution_count": null,
   "id": "0bdca2bd",
   "metadata": {},
   "outputs": [],
   "source": [
    "y_predict =knn_model.predict(X_test)\n",
    "y_predict"
   ]
  },
  {
   "cell_type": "code",
   "execution_count": null,
   "id": "685d1c1f",
   "metadata": {},
   "outputs": [],
   "source": [
    "cm = confusion_matrix(y_test,y_predict)"
   ]
  },
  {
   "cell_type": "code",
   "execution_count": null,
   "id": "fcf30d2c",
   "metadata": {},
   "outputs": [],
   "source": [
    "sns.heatmap(cm ,annot=True)"
   ]
  },
  {
   "cell_type": "code",
   "execution_count": null,
   "id": "08bee8f7",
   "metadata": {},
   "outputs": [],
   "source": [
    "from sklearn import metrics\n",
    "print(\"Train set Accuracy: \", metrics.accuracy_score(y_train, knn_model.predict(X_train)))\n",
    "print(\"Test set Accuracy: \", metrics.accuracy_score(y_test, knn_model.predict(X_test)))"
   ]
  },
  {
   "cell_type": "code",
   "execution_count": null,
   "id": "d0c27017",
   "metadata": {},
   "outputs": [],
   "source": [
    "print(classification_report(y_test,y_predict))"
   ]
  },
  {
   "cell_type": "code",
   "execution_count": null,
   "id": "536b02bb",
   "metadata": {},
   "outputs": [],
   "source": [
    "k = 5\n",
    "\n",
    "neigh6 = KNeighborsClassifier(n_neighbors = k).fit(X_train,y_train)\n",
    "\n",
    "yhat6 = neigh6.predict(X_test)\n",
    "\n",
    "print(\"Train set Accuracy: \", metrics.accuracy_score(y_train, neigh6.predict(X_train)))\n",
    "print(\"Test set Accuracy: \", metrics.accuracy_score(y_test, yhat6))"
   ]
  },
  {
   "cell_type": "code",
   "execution_count": null,
   "id": "25d57a9e",
   "metadata": {},
   "outputs": [],
   "source": [
    "Ks = 15\n",
    "mean_acc = np.zeros((Ks-1))\n",
    "std_acc = np.zeros((Ks-1))\n",
    "ConfustionMx = [];\n",
    "for n in range(1,Ks):\n",
    "    \n",
    "    #Train Model and Predict  \n",
    "    neigh = KNeighborsClassifier(n_neighbors = n).fit(X_train,y_train)\n",
    "    yhat=neigh.predict(X_test)\n",
    "    mean_acc[n-1] = metrics.accuracy_score(y_test, yhat)\n",
    "\n",
    "    \n",
    "    std_acc[n-1]=np.std(yhat==y_test)/np.sqrt(yhat.shape[0])\n",
    "\n",
    "mean_acc"
   ]
  },
  {
   "cell_type": "code",
   "execution_count": null,
   "id": "5a2bfa08",
   "metadata": {},
   "outputs": [],
   "source": [
    "import matplotlib.pyplot as plt\n",
    "plt.plot(range(1,Ks),mean_acc,'g')\n",
    "plt.fill_between(range(1,Ks),mean_acc - 1 * std_acc,mean_acc + 1 * std_acc, alpha=0.10)\n",
    "plt.legend(('Accuracy ', '+/- 3xstd'))\n",
    "plt.ylabel('Accuracy ')\n",
    "plt.xlabel('Number of Nabors (K)')\n",
    "plt.tight_layout()\n",
    "plt.show()"
   ]
  },
  {
   "cell_type": "code",
   "execution_count": null,
   "id": "0e77fe59",
   "metadata": {},
   "outputs": [],
   "source": [
    "print( \"The best accuracy was with\", mean_acc.max(), \"with k=\", mean_acc.argmax()+1) "
   ]
  },
  {
   "cell_type": "code",
   "execution_count": null,
   "id": "c6209bf1",
   "metadata": {},
   "outputs": [],
   "source": [
    "k = 9\n",
    "\n",
    "neigh6 = KNeighborsClassifier(n_neighbors = k).fit(X_train,y_train)\n",
    "\n",
    "yhat6 = neigh6.predict(X_test)\n",
    "\n",
    "print(\"Train set Accuracy: \", metrics.accuracy_score(y_train, neigh6.predict(X_train)))\n",
    "print(\"Test set Accuracy: \", metrics.accuracy_score(y_test, yhat6))"
   ]
  },
  {
   "cell_type": "code",
   "execution_count": null,
   "id": "0d95ea4b",
   "metadata": {},
   "outputs": [],
   "source": [
    "dump(neigh6, open('knn_trained_all.pkl', 'wb'))"
   ]
  },
  {
   "cell_type": "markdown",
   "id": "bcf4de60",
   "metadata": {},
   "source": [
    "## with SK feature dataset"
   ]
  },
  {
   "cell_type": "code",
   "execution_count": null,
   "id": "be248d12",
   "metadata": {},
   "outputs": [],
   "source": [
    "X_train_sk = pd. read_csv(\"test_train_data/X_train_scaled_sk.csv\")\n",
    "X_train_sk.shape"
   ]
  },
  {
   "cell_type": "code",
   "execution_count": null,
   "id": "a6051f3c",
   "metadata": {},
   "outputs": [],
   "source": [
    "X_test_sk = pd.read_csv(\"test_train_data/X_test_scaled_sk.csv\")\n",
    "X_test_sk.shape"
   ]
  },
  {
   "cell_type": "code",
   "execution_count": null,
   "id": "eedbebcb",
   "metadata": {},
   "outputs": [],
   "source": [
    "knn_model_sk = KNeighborsClassifier(n_neighbors = 5, metric = 'minkowski', p = 2)\n",
    "knn_model_sk.fit(X_train_sk, y_train)"
   ]
  },
  {
   "cell_type": "code",
   "execution_count": null,
   "id": "f793fc74",
   "metadata": {},
   "outputs": [],
   "source": [
    "y_predict_sk =knn_model_sk.predict(X_test_sk)\n",
    "y_predict_sk"
   ]
  },
  {
   "cell_type": "code",
   "execution_count": null,
   "id": "9e22ff98",
   "metadata": {},
   "outputs": [],
   "source": [
    "cm_sk = confusion_matrix(y_test,y_predict_sk)"
   ]
  },
  {
   "cell_type": "code",
   "execution_count": null,
   "id": "3048dd1f",
   "metadata": {},
   "outputs": [],
   "source": [
    "sns.heatmap(cm_sk ,annot=True)"
   ]
  },
  {
   "cell_type": "code",
   "execution_count": null,
   "id": "1e00a7d5",
   "metadata": {},
   "outputs": [],
   "source": [
    "from sklearn import metrics\n",
    "print(\"Train set Accuracy: \", metrics.accuracy_score(y_train, knn_model_sk.predict(X_train_sk)))\n",
    "print(\"Test set Accuracy: \", metrics.accuracy_score(y_test, knn_model_sk.predict(X_test_sk)))"
   ]
  },
  {
   "cell_type": "code",
   "execution_count": null,
   "id": "f06b1014",
   "metadata": {},
   "outputs": [],
   "source": [
    "k = 5\n",
    "\n",
    "neigh6_sk = KNeighborsClassifier(n_neighbors = k).fit(X_train_sk,y_train)\n",
    "\n",
    "yhat6_sk = neigh6_sk.predict(X_test_sk)\n",
    "\n",
    "print(\"Train set Accuracy: \", metrics.accuracy_score(y_train, neigh6_sk.predict(X_train_sk)))\n",
    "print(\"Test set Accuracy: \", metrics.accuracy_score(y_test, yhat6_sk))"
   ]
  },
  {
   "cell_type": "code",
   "execution_count": null,
   "id": "a2d61546",
   "metadata": {},
   "outputs": [],
   "source": [
    "Ks = 15\n",
    "mean_acc_sk = np.zeros((Ks-1))\n",
    "std_acc_sk = np.zeros((Ks-1))\n",
    "ConfustionMx_sk = [];\n",
    "for n in range(1,Ks):\n",
    "    \n",
    "    #Train Model and Predict  \n",
    "    neigh_sk = KNeighborsClassifier(n_neighbors = n).fit(X_train_sk,y_train)\n",
    "    yhat_sk = neigh_sk.predict(X_test_sk)\n",
    "    mean_acc_sk[n-1] = metrics.accuracy_score(y_test, yhat_sk)\n",
    "\n",
    "    \n",
    "    std_acc_sk[n-1]=np.std(yhat_sk==y_test)/np.sqrt(yhat_sk.shape[0])\n",
    "\n",
    "mean_acc_sk"
   ]
  },
  {
   "cell_type": "code",
   "execution_count": null,
   "id": "377d0f17",
   "metadata": {},
   "outputs": [],
   "source": [
    "import matplotlib.pyplot as plt\n",
    "plt.plot(range(1,Ks),mean_acc_sk,'g')\n",
    "plt.fill_between(range(1,Ks),mean_acc_sk - 1 * std_acc_sk,mean_acc_sk + 1 * std_acc_sk, alpha=0.10)\n",
    "plt.legend(('Accuracy ', '+/- 3xstd'))\n",
    "plt.ylabel('Accuracy ')\n",
    "plt.xlabel('Number of Nabors (K)')\n",
    "plt.tight_layout()\n",
    "plt.show()"
   ]
  },
  {
   "cell_type": "code",
   "execution_count": null,
   "id": "73ba5486",
   "metadata": {},
   "outputs": [],
   "source": [
    "print( \"The best accuracy was with\", mean_acc_sk.max(), \"with k=\", mean_acc_sk.argmax()+1) "
   ]
  },
  {
   "cell_type": "code",
   "execution_count": null,
   "id": "74ee3b27",
   "metadata": {},
   "outputs": [],
   "source": [
    "k = 10\n",
    "\n",
    "neigh6_sk = KNeighborsClassifier(n_neighbors = k).fit(X_train_sk,y_train)\n",
    "\n",
    "yhat6_sk = neigh6_sk.predict(X_test_sk)\n",
    "\n",
    "print(\"Train set Accuracy: \", metrics.accuracy_score(y_train, neigh6_sk.predict(X_train_sk)))\n",
    "print(\"Test set Accuracy: \", metrics.accuracy_score(y_test, yhat6_sk))"
   ]
  },
  {
   "cell_type": "code",
   "execution_count": null,
   "id": "d88d46ad",
   "metadata": {},
   "outputs": [],
   "source": [
    "dump(neigh6_sk, open('knn_trained_sk.pkl', 'wb'))"
   ]
  },
  {
   "cell_type": "markdown",
   "id": "8d726693",
   "metadata": {},
   "source": [
    "## with Correlation feature dataset"
   ]
  },
  {
   "cell_type": "code",
   "execution_count": null,
   "id": "aa2d6400",
   "metadata": {},
   "outputs": [],
   "source": [
    "X_train_cs = pd. read_csv(\"test_train_data/X_train_scaled_cs.csv\")\n",
    "X_train_cs.shape"
   ]
  },
  {
   "cell_type": "code",
   "execution_count": null,
   "id": "96ea59a6",
   "metadata": {},
   "outputs": [],
   "source": [
    "X_test_cs = pd. read_csv(\"test_train_data/X_test_scaled_cs.csv\")\n",
    "X_test_cs.shape"
   ]
  },
  {
   "cell_type": "code",
   "execution_count": null,
   "id": "e772ad76",
   "metadata": {},
   "outputs": [],
   "source": [
    "knn_model_cs = KNeighborsClassifier(n_neighbors = 5, metric = 'minkowski', p = 2)\n",
    "knn_model_cs.fit(X_train_cs, y_train)"
   ]
  },
  {
   "cell_type": "code",
   "execution_count": null,
   "id": "fbbbd1cb",
   "metadata": {},
   "outputs": [],
   "source": [
    "y_predict_cs =knn_model_cs.predict(X_test_cs)\n",
    "y_predict_cs"
   ]
  },
  {
   "cell_type": "code",
   "execution_count": null,
   "id": "d29cc112",
   "metadata": {},
   "outputs": [],
   "source": [
    "cm_cs = confusion_matrix(y_test,y_predict_cs)"
   ]
  },
  {
   "cell_type": "code",
   "execution_count": null,
   "id": "09ca378c",
   "metadata": {},
   "outputs": [],
   "source": [
    "sns.heatmap(cm_cs ,annot=True)"
   ]
  },
  {
   "cell_type": "code",
   "execution_count": null,
   "id": "63610c6f",
   "metadata": {},
   "outputs": [],
   "source": [
    "from sklearn import metrics\n",
    "print(\"Train set Accuracy: \", metrics.accuracy_score(y_train, knn_model_cs.predict(X_train_cs)))\n",
    "print(\"Test set Accuracy: \", metrics.accuracy_score(y_test, knn_model_cs.predict(X_test_cs)))"
   ]
  },
  {
   "cell_type": "code",
   "execution_count": null,
   "id": "8651d0cb",
   "metadata": {},
   "outputs": [],
   "source": [
    "k = 5\n",
    "\n",
    "neigh6_cs = KNeighborsClassifier(n_neighbors = k).fit(X_train_cs,y_train)\n",
    "\n",
    "yhat6_cs = neigh6_cs.predict(X_test_cs)\n",
    "\n",
    "print(\"Train set Accuracy: \", metrics.accuracy_score(y_train, neigh6_cs.predict(X_train_cs)))\n",
    "print(\"Test set Accuracy: \", metrics.accuracy_score(y_test, yhat6_cs))"
   ]
  },
  {
   "cell_type": "code",
   "execution_count": null,
   "id": "dbc47562",
   "metadata": {},
   "outputs": [],
   "source": [
    "Ks = 15\n",
    "mean_acc_cs = np.zeros((Ks-1))\n",
    "std_acc_cs = np.zeros((Ks-1))\n",
    "ConfustionMx_cs = [];\n",
    "for n in range(1,Ks):\n",
    "    \n",
    "    #Train Model and Predict  \n",
    "    neigh_cs = KNeighborsClassifier(n_neighbors = n).fit(X_train_cs,y_train)\n",
    "    yhat_cs = neigh_cs.predict(X_test_cs)\n",
    "    mean_acc_cs[n-1] = metrics.accuracy_score(y_test, yhat_cs)\n",
    "\n",
    "    \n",
    "    std_acc_cs[n-1]=np.std(yhat_cs==y_test)/np.sqrt(yhat_cs.shape[0])\n",
    "\n",
    "mean_acc_cs"
   ]
  },
  {
   "cell_type": "code",
   "execution_count": null,
   "id": "5fa47f41",
   "metadata": {},
   "outputs": [],
   "source": [
    "import matplotlib.pyplot as plt\n",
    "plt.plot(range(1,Ks),mean_acc_cs,'g')\n",
    "plt.fill_between(range(1,Ks),mean_acc_cs - 1 * std_acc_cs,mean_acc_cs + 1 * std_acc_cs, alpha=0.10)\n",
    "plt.legend(('Accuracy ', '+/- 3xstd'))\n",
    "plt.ylabel('Accuracy ')\n",
    "plt.xlabel('Number of Nabors (K)')\n",
    "plt.tight_layout()\n",
    "plt.show()"
   ]
  },
  {
   "cell_type": "code",
   "execution_count": null,
   "id": "c5fe6328",
   "metadata": {},
   "outputs": [],
   "source": [
    "print( \"The best accuracy was with\", mean_acc_cs.max(), \"with k=\", mean_acc_cs.argmax()+1) "
   ]
  },
  {
   "cell_type": "code",
   "execution_count": null,
   "id": "ae9ba1a8",
   "metadata": {},
   "outputs": [],
   "source": [
    "k = 13\n",
    "\n",
    "neigh6_cs = KNeighborsClassifier(n_neighbors = k).fit(X_train_cs,y_train)\n",
    "\n",
    "yhat6_cs = neigh6_cs.predict(X_test_cs)\n",
    "\n",
    "print(\"Train set Accuracy: \", metrics.accuracy_score(y_train, neigh6_cs.predict(X_train_cs)))\n",
    "print(\"Test set Accuracy: \", metrics.accuracy_score(y_test, yhat6_cs))"
   ]
  },
  {
   "cell_type": "code",
   "execution_count": null,
   "id": "42d5e71c",
   "metadata": {},
   "outputs": [],
   "source": [
    "dump(neigh6_cs, open('knn_trained_cs.pkl', 'wb'))"
   ]
  },
  {
   "cell_type": "code",
   "execution_count": null,
   "id": "0b321dbb",
   "metadata": {},
   "outputs": [],
   "source": []
  }
 ],
 "metadata": {
  "kernelspec": {
   "display_name": "Python 3",
   "language": "python",
   "name": "python3"
  },
  "language_info": {
   "codemirror_mode": {
    "name": "ipython",
    "version": 3
   },
   "file_extension": ".py",
   "mimetype": "text/x-python",
   "name": "python",
   "nbconvert_exporter": "python",
   "pygments_lexer": "ipython3",
   "version": "3.8.8"
  }
 },
 "nbformat": 4,
 "nbformat_minor": 5
}
