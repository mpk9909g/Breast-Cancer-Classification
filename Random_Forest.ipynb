{
 "cells": [
  {
   "cell_type": "markdown",
   "id": "6bad1d6d",
   "metadata": {},
   "source": [
    "# Random Forest with Feature selection comparison"
   ]
  },
  {
   "cell_type": "code",
   "execution_count": null,
   "id": "703efbe5",
   "metadata": {},
   "outputs": [],
   "source": [
    "\n",
    "from sklearn.preprocessing import LabelEncoder\n",
    "import pandas as pd\n",
    "import numpy as np\n",
    "from pickle import dump\n",
    "from sklearn.ensemble import RandomForestClassifier"
   ]
  },
  {
   "cell_type": "code",
   "execution_count": null,
   "id": "1be0341b",
   "metadata": {},
   "outputs": [],
   "source": [
    "# Load training sets\n",
    "X_train_scaled = pd.read_csv(\"test_train_data/X_train_scaled.csv\")\n",
    "X_train_scaled_sk = pd.read_csv(\"test_train_data/X_train_scaled_sk.csv\")\n",
    "X_train_scaled_cs = pd.read_csv(\"test_train_data/X_train_scaled_cs.csv\")\n",
    "encoded_y_train = pd.read_csv(\"test_train_data/encoded_y_train.csv\")"
   ]
  },
  {
   "cell_type": "code",
   "execution_count": null,
   "id": "9d345fb2",
   "metadata": {},
   "outputs": [],
   "source": [
    "# Load testing sets\n",
    "X_test_scaled = pd.read_csv(\"test_train_data/X_test_scaled.csv\")\n",
    "X_test_scaled_sk = pd.read_csv(\"test_train_data/X_test_scaled_sk.csv\")\n",
    "X_test_scaled_cs = pd.read_csv(\"test_train_data/X_test_scaled_cs.csv\")\n",
    "encoded_y_test = pd.read_csv(\"test_train_data/encoded_y_test.csv\")"
   ]
  },
  {
   "cell_type": "code",
   "execution_count": null,
   "id": "f176a499",
   "metadata": {},
   "outputs": [],
   "source": [
    "# Code for Random Forest for all features\n",
    "\n",
    "\n",
    "rf = RandomForestClassifier(n_estimators=200)\n",
    "rf = rf.fit(X_train_scaled, np.ravel(encoded_y_train))\n",
    "rf.score(X_test_scaled, np.ravel(encoded_y_test))"
   ]
  },
  {
   "cell_type": "code",
   "execution_count": null,
   "id": "1712bc74",
   "metadata": {},
   "outputs": [],
   "source": [
    "# Code for Random Forest with SelectKBest features\n",
    "\n",
    "rf_sk = RandomForestClassifier(n_estimators=200)\n",
    "rf_sk = rf_sk.fit(X_train_scaled_sk, np.ravel(encoded_y_train))\n",
    "rf_sk.score(X_test_scaled_sk, np.ravel(encoded_y_test))"
   ]
  },
  {
   "cell_type": "code",
   "execution_count": null,
   "id": "56a42e5c",
   "metadata": {},
   "outputs": [],
   "source": [
    "# Code for Random Forest with Correlation based selection\n",
    "\n",
    "rf_cs = RandomForestClassifier(n_estimators=200)\n",
    "rf_cs = rf_cs.fit(X_train_scaled_cs, np.ravel(encoded_y_train))\n",
    "rf_cs.score(X_test_scaled_cs, np.ravel(encoded_y_test))"
   ]
  },
  {
   "cell_type": "code",
   "execution_count": null,
   "id": "45fe7324",
   "metadata": {},
   "outputs": [],
   "source": [
    "# Get parameters\n",
    "from pprint import pprint\n",
    "pprint(rf.get_params())"
   ]
  },
  {
   "cell_type": "code",
   "execution_count": null,
   "id": "b9a20839",
   "metadata": {},
   "outputs": [],
   "source": [
    "# Adjust # of trees\n",
    "\n",
    "rf = RandomForestClassifier(n_estimators=10)\n",
    "rf = rf.fit(X_train_scaled, np.ravel(encoded_y_train))\n",
    "rf.score(X_test_scaled, np.ravel(encoded_y_test))"
   ]
  },
  {
   "cell_type": "code",
   "execution_count": null,
   "id": "a27fafe4",
   "metadata": {},
   "outputs": [],
   "source": [
    "# Adjust # of max features for node splitting\n",
    "\n",
    "rf = RandomForestClassifier(n_estimators=10, max_features = 'sqrt')\n",
    "rf = rf.fit(X_train_scaled, np.ravel(encoded_y_train))\n",
    "rf.score(X_test_scaled, np.ravel(encoded_y_test))"
   ]
  },
  {
   "cell_type": "markdown",
   "id": "f683194f",
   "metadata": {},
   "source": [
    "### Better to go with a Grid Search Estimator on best feature selection - Very Time Consuming (~1min runtime)"
   ]
  },
  {
   "cell_type": "code",
   "execution_count": null,
   "id": "131e7e7b",
   "metadata": {},
   "outputs": [],
   "source": [
    "from sklearn.model_selection import GridSearchCV\n",
    "# Create the parameter grid based on the results of random search \n",
    "param_grid = {\n",
    "    'bootstrap': [True],\n",
    "    'max_depth': [80, 90, 100, 110],\n",
    "    'max_features': [2, 3],\n",
    "    'min_samples_leaf': [3, 4, 5],\n",
    "    'min_samples_split': [8, 10, 12],\n",
    "    'n_estimators': [100, 200, 300, 1000]\n",
    "}\n",
    "\n",
    "grid = GridSearchCV(estimator = rf, param_grid = param_grid, \n",
    "                          cv = 3, n_jobs = -1, verbose = 3)"
   ]
  },
  {
   "cell_type": "code",
   "execution_count": null,
   "id": "6816b9be",
   "metadata": {},
   "outputs": [],
   "source": [
    "grid.fit(X_train_scaled, np.ravel(encoded_y_train))"
   ]
  },
  {
   "cell_type": "code",
   "execution_count": null,
   "id": "edbea5d2",
   "metadata": {},
   "outputs": [],
   "source": [
    "print(grid.best_params_)"
   ]
  },
  {
   "cell_type": "code",
   "execution_count": null,
   "id": "869a66fc",
   "metadata": {},
   "outputs": [],
   "source": [
    "predictions = grid.predict(X_test_scaled)"
   ]
  },
  {
   "cell_type": "code",
   "execution_count": null,
   "id": "420ebd7e",
   "metadata": {},
   "outputs": [],
   "source": [
    "print('Test Acc: %.3f' % grid.score(X_test_scaled, np.ravel(encoded_y_test)))"
   ]
  },
  {
   "cell_type": "code",
   "execution_count": null,
   "id": "6e28ffdb",
   "metadata": {},
   "outputs": [],
   "source": [
    "dump(rf, open('randomforest_trained_all.pkl', 'wb'))\n",
    "dump(rf_sk, open('randomforest_trained_sk.pkl', 'wb'))\n",
    "dump(rf_cs, open('randomforest_trained_cs.pkl', 'wb'))"
   ]
  },
  {
   "cell_type": "code",
   "execution_count": null,
   "id": "9928b21c",
   "metadata": {},
   "outputs": [],
   "source": []
  }
 ],
 "metadata": {
  "kernelspec": {
   "display_name": "Python 3",
   "language": "python",
   "name": "python3"
  },
  "language_info": {
   "codemirror_mode": {
    "name": "ipython",
    "version": 3
   },
   "file_extension": ".py",
   "mimetype": "text/x-python",
   "name": "python",
   "nbconvert_exporter": "python",
   "pygments_lexer": "ipython3",
   "version": "3.8.8"
  }
 },
 "nbformat": 4,
 "nbformat_minor": 5
}
