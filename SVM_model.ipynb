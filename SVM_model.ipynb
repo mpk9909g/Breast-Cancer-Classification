{
 "cells": [
  {
   "cell_type": "code",
   "execution_count": null,
   "id": "cefdfd9e",
   "metadata": {},
   "outputs": [],
   "source": [
    "import pandas as pd\n",
    "import numpy as np\n",
    "from numpy import loadtxt\n",
    "from sklearn.metrics import accuracy_score\n",
    "import seaborn as sns\n",
    "from pickle import dump"
   ]
  },
  {
   "cell_type": "code",
   "execution_count": null,
   "id": "2d086973",
   "metadata": {},
   "outputs": [],
   "source": [
    "X_train = pd. read_csv(\"test_train_data/X_train_scaled.csv\")\n",
    "X_train.shape"
   ]
  },
  {
   "cell_type": "code",
   "execution_count": null,
   "id": "72ecb43d",
   "metadata": {},
   "outputs": [],
   "source": [
    "X_test = pd. read_csv(\"test_train_data/X_test_scaled.csv\")\n",
    "X_test.shape"
   ]
  },
  {
   "cell_type": "code",
   "execution_count": null,
   "id": "9b223805",
   "metadata": {},
   "outputs": [],
   "source": [
    "y_train = pd. read_csv(\"test_train_data/encoded_y_train.csv\")\n",
    "y_train = y_train.iloc[:, 0]\n",
    "y_train.shape"
   ]
  },
  {
   "cell_type": "code",
   "execution_count": null,
   "id": "b504ee87",
   "metadata": {},
   "outputs": [],
   "source": [
    "y_test = pd. read_csv(\"test_train_data/encoded_y_test.csv\")\n",
    "y_test = y_test.iloc[:, 0]\n",
    "y_test.shape"
   ]
  },
  {
   "cell_type": "code",
   "execution_count": null,
   "id": "1253f858",
   "metadata": {},
   "outputs": [],
   "source": [
    "from sklearn.svm import SVC"
   ]
  },
  {
   "cell_type": "code",
   "execution_count": null,
   "id": "fe2ffadf",
   "metadata": {},
   "outputs": [],
   "source": [
    "from sklearn.metrics import classification_report , confusion_matrix"
   ]
  },
  {
   "cell_type": "code",
   "execution_count": null,
   "id": "71e595cb",
   "metadata": {},
   "outputs": [],
   "source": [
    "svm_model = SVC(kernel = 'linear', random_state = 0)\n",
    "svm_model.fit(X_train, y_train)"
   ]
  },
  {
   "cell_type": "code",
   "execution_count": null,
   "id": "30b347c4",
   "metadata": {},
   "outputs": [],
   "source": [
    "y_predict =svm_model.predict(X_test)"
   ]
  },
  {
   "cell_type": "code",
   "execution_count": null,
   "id": "0d1d0d5d",
   "metadata": {},
   "outputs": [],
   "source": [
    "y_predict"
   ]
  },
  {
   "cell_type": "code",
   "execution_count": null,
   "id": "91b7bb4f",
   "metadata": {},
   "outputs": [],
   "source": [
    "cm = confusion_matrix(y_test,y_predict)"
   ]
  },
  {
   "cell_type": "code",
   "execution_count": null,
   "id": "67b0a378",
   "metadata": {},
   "outputs": [],
   "source": [
    "sns.heatmap(cm ,annot=True)"
   ]
  },
  {
   "cell_type": "code",
   "execution_count": null,
   "id": "bea72c4f",
   "metadata": {},
   "outputs": [],
   "source": [
    "from sklearn import metrics\n",
    "print(\"Train set Accuracy: \", metrics.accuracy_score(y_train, svm_model.predict(X_train)))\n",
    "print(\"Test set Accuracy: \", metrics.accuracy_score(y_test, svm_model.predict(X_test)))"
   ]
  },
  {
   "cell_type": "markdown",
   "id": "fdb7703f",
   "metadata": {},
   "source": [
    "## With SK feature dataset"
   ]
  },
  {
   "cell_type": "code",
   "execution_count": null,
   "id": "2de1bd1f",
   "metadata": {},
   "outputs": [],
   "source": [
    "X_train_sk = pd. read_csv(\"test_train_data/X_train_scaled_sk.csv\")\n",
    "X_train_sk.shape"
   ]
  },
  {
   "cell_type": "code",
   "execution_count": null,
   "id": "cc9d56c9",
   "metadata": {},
   "outputs": [],
   "source": [
    "X_test_sk = pd. read_csv(\"test_train_data/X_test_scaled_sk.csv\")\n",
    "X_test_sk.shape"
   ]
  },
  {
   "cell_type": "code",
   "execution_count": null,
   "id": "e9b4bfbc",
   "metadata": {},
   "outputs": [],
   "source": [
    "svm_model_sk = SVC(kernel = 'linear', random_state = 0)\n",
    "svm_model_sk.fit(X_train_sk, y_train)"
   ]
  },
  {
   "cell_type": "code",
   "execution_count": null,
   "id": "aa6455a9",
   "metadata": {},
   "outputs": [],
   "source": [
    "y_predict_sk =svm_model_sk.predict(X_test_sk)\n",
    "y_predict_sk"
   ]
  },
  {
   "cell_type": "code",
   "execution_count": null,
   "id": "b9a620b0",
   "metadata": {},
   "outputs": [],
   "source": [
    "cm_sk = confusion_matrix(y_test,y_predict_sk)"
   ]
  },
  {
   "cell_type": "code",
   "execution_count": null,
   "id": "40c027eb",
   "metadata": {},
   "outputs": [],
   "source": [
    "sns.heatmap(cm_sk ,annot=True)"
   ]
  },
  {
   "cell_type": "code",
   "execution_count": null,
   "id": "9334b467",
   "metadata": {},
   "outputs": [],
   "source": [
    "from sklearn import metrics\n",
    "print(\"Train set Accuracy: \", metrics.accuracy_score(y_train, svm_model_sk.predict(X_train_sk)))\n",
    "print(\"Test set Accuracy: \", metrics.accuracy_score(y_test, svm_model_sk.predict(X_test_sk)))"
   ]
  },
  {
   "cell_type": "markdown",
   "id": "a1d6bbbb",
   "metadata": {},
   "source": [
    "## with Correlation feature dataset"
   ]
  },
  {
   "cell_type": "code",
   "execution_count": null,
   "id": "e652037d",
   "metadata": {},
   "outputs": [],
   "source": [
    "X_train_cs = pd. read_csv(\"test_train_data/X_train_scaled_cs.csv\")\n",
    "X_train_cs.shape"
   ]
  },
  {
   "cell_type": "code",
   "execution_count": null,
   "id": "ebe8d2c7",
   "metadata": {},
   "outputs": [],
   "source": [
    "X_test_cs = pd. read_csv(\"test_train_data/X_test_scaled_cs.csv\")\n",
    "X_test_cs.shape"
   ]
  },
  {
   "cell_type": "code",
   "execution_count": null,
   "id": "23e967f0",
   "metadata": {},
   "outputs": [],
   "source": [
    "svm_model_cs = SVC(kernel = 'linear', random_state = 0)\n",
    "svm_model_cs.fit(X_train_cs, y_train)"
   ]
  },
  {
   "cell_type": "code",
   "execution_count": null,
   "id": "d6af0da9",
   "metadata": {},
   "outputs": [],
   "source": [
    "y_predict_cs =svm_model_cs.predict(X_test_cs)\n",
    "y_predict_cs"
   ]
  },
  {
   "cell_type": "code",
   "execution_count": null,
   "id": "50e83ac6",
   "metadata": {},
   "outputs": [],
   "source": [
    "y_predict_cs =svm_model_cs.predict(X_test_cs)\n",
    "y_predict_cs"
   ]
  },
  {
   "cell_type": "code",
   "execution_count": null,
   "id": "a3fd1ba7",
   "metadata": {},
   "outputs": [],
   "source": [
    "cm_cs = confusion_matrix(y_test,y_predict_cs)"
   ]
  },
  {
   "cell_type": "code",
   "execution_count": null,
   "id": "cff69ad6",
   "metadata": {},
   "outputs": [],
   "source": [
    "sns.heatmap(cm_cs ,annot=True)"
   ]
  },
  {
   "cell_type": "code",
   "execution_count": null,
   "id": "94787a90",
   "metadata": {},
   "outputs": [],
   "source": [
    "from sklearn import metrics\n",
    "print(\"Train set Accuracy: \", metrics.accuracy_score(y_train, svm_model_cs.predict(X_train_cs)))\n",
    "print(\"Test set Accuracy: \", metrics.accuracy_score(y_test, svm_model_cs.predict(X_test_cs)))"
   ]
  },
  {
   "cell_type": "code",
   "execution_count": null,
   "id": "278b66eb",
   "metadata": {},
   "outputs": [],
   "source": [
    "dump(svm_model, open('pickles/svm_model_trained_all.pkl', 'wb'))\n",
    "dump(svm_model_sk, open('pickles/svm_model_trained_sk.pkl', 'wb'))\n",
    "dump(svm_model_cs, open('pickles/svm_model_trained_cs.pkl', 'wb'))"
   ]
  },
  {
   "cell_type": "code",
   "execution_count": null,
   "id": "7e4177d6",
   "metadata": {},
   "outputs": [],
   "source": []
  }
 ],
 "metadata": {
  "kernelspec": {
   "display_name": "Python 3",
   "language": "python",
   "name": "python3"
  },
  "language_info": {
   "codemirror_mode": {
    "name": "ipython",
    "version": 3
   },
   "file_extension": ".py",
   "mimetype": "text/x-python",
   "name": "python",
   "nbconvert_exporter": "python",
   "pygments_lexer": "ipython3",
   "version": "3.8.8"
  }
 },
 "nbformat": 4,
 "nbformat_minor": 5
}
